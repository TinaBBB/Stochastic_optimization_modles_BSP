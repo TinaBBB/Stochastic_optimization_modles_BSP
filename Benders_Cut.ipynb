{
 "cells": [
  {
   "cell_type": "markdown",
   "metadata": {
    "id": "dApqT7-5mKJ_"
   },
   "source": [
    "## Load libraries"
   ]
  },
  {
   "cell_type": "code",
   "execution_count": 1,
   "metadata": {
    "colab": {
     "base_uri": "https://localhost:8080/",
     "height": 334
    },
    "id": "w2f4pJSWcYcm",
    "outputId": "b5d11134-7db9-481a-d5b4-c88044ba0306"
   },
   "outputs": [],
   "source": [
    "import numpy as np\n",
    "import pandas as pd\n",
    "import math\n",
    "import pickle\n",
    "import json\n",
    "from gurobipy import *\n",
    "from datetime import datetime"
   ]
  },
  {
   "cell_type": "markdown",
   "metadata": {
    "id": "Njh2tY-qmRxe"
   },
   "source": [
    "## Functions"
   ]
  },
  {
   "cell_type": "code",
   "execution_count": 2,
   "metadata": {
    "id": "mrSn0n2Sc5Sv"
   },
   "outputs": [],
   "source": [
    "def pickle_load(file_dir):\n",
    "  with open(file_dir, \"rb\") as fp:   # Unpickling\n",
    "    return pickle.load(fp)\n",
    "\n",
    "def json_load(file_dir):\n",
    "    with open(file_dir) as f:\n",
    "        return json.load(f)"
   ]
  },
  {
   "cell_type": "code",
   "execution_count": 3,
   "metadata": {
    "id": "Om5xdDbWlYOa"
   },
   "outputs": [],
   "source": [
    "data_dir = './data/'\n",
    "\n",
    "# scenario number & distribution settings\n",
    "scenario_num = 100\n",
    "distribution_choice = 'normal'\n",
    "\n",
    "# Sets directory\n",
    "Bset_dir = data_dir + 'Bset.txt'\n",
    "Bij_set_dir = data_dir + 'Bij_set.txt'\n",
    "Sset_dir = data_dir+'Sset_' + str(scenario_num) + '.txt'\n",
    "\n",
    "deterministic_params_dir = data_dir + 'deterministic_params.json'\n",
    "capacity_i_dir = data_dir + 'capacity_i.json'\n",
    "capacity_i_constant_dir = data_dir + 'capacity_i_constant.json'\n",
    "\n",
    "p_s_dir = data_dir + 'p_s_' + str(scenario_num) + '.json'\n",
    "demScens_dir = data_dir + 'demScens_' + distribution_choice + '_' + str(scenario_num) + '.dict'"
   ]
  },
  {
   "cell_type": "code",
   "execution_count": 4,
   "metadata": {
    "id": "49YI5VrQlLUt"
   },
   "outputs": [],
   "source": [
    "# Sets\n",
    "Bset = pickle_load(Bset_dir)                                  # 22 Bike Stations\n",
    "Bij_set = pickle_load(Bij_set_dir)                                  # Bike pairs                                        \n",
    "Sset = pickle_load(Sset_dir)                                     # Scenario sets\n",
    "deterministic_params = json_load(deterministic_params_dir)       # deterministic parameters\n",
    "\n",
    "c = deterministic_params['c']                            # unit procurement cost\n",
    "v_i = deterministic_params['v_i']                               # stock-out cost\n",
    "w_i = deterministic_params['w_i']                              # time-waste cost \n",
    "t_ij = deterministic_params['t_ij']                    # unit transshipment cost \n",
    "capacity_i = json_load(capacity_i_dir)\n",
    "p_s = json_load(p_s_dir)\n",
    "demScens = pickle_load(demScens_dir)"
   ]
  },
  {
   "cell_type": "code",
   "execution_count": 5,
   "metadata": {},
   "outputs": [],
   "source": [
    "cpy = {}\n",
    "for pair, val in demScens.items():\n",
    "    cpy[((pair[0], pair[1]), pair[2])] = val\n",
    "demScens = cpy"
   ]
  },
  {
   "cell_type": "code",
   "execution_count": 6,
   "metadata": {},
   "outputs": [
    {
     "data": {
      "text/plain": [
       "1"
      ]
     },
     "execution_count": 6,
     "metadata": {},
     "output_type": "execute_result"
    }
   ],
   "source": [
    "t_ij"
   ]
  },
  {
   "cell_type": "markdown",
   "metadata": {
    "id": "TlVCuvIs93aD"
   },
   "source": [
    "The formulation of the two-stage stochastic program problem i written as follows:\n",
    "\n",
    "<b>First stage varibles:</b> <br>\n",
    "$$x_i: \\text{the number of bikes to assign to bike-station i} \\in \\text{B at the beginning of the service}$$\n",
    "<b>Second stage variables: </b>\n",
    "$$\n",
    "\\beta_{ijs}: \\text{Number of rented bikes from bike-station i to bike-station j in scenario s}\\\\\n",
    "I_{is}^{+}: \\text{Realized surplus of bikes at bike-station i in scenario s} \\\\\n",
    "I_{ijs}^{-}: \\text{Realized shortage of bikes at origin-destination pair i, j in scenario s}\\\\\n",
    "\\rho_{ijs}: \\text{Number of redirected bikes from bike-station i to bike-station j in scenario s (in case of overflow)}\\\\\n",
    "O_{is}^{+}: \\text{Residual capacity at bike-station i in scenario s} \\\\\n",
    "O_{is}^{-}: \\text{Overflow at bike-station i in scenario s} \\\\\n",
    "\\tau_{ijs}: \\text{Number of transshipped bikes from bike-station i to bike-station j in scenario s} \\\\\n",
    "T_{is}^{+}: \\text{Excess of bikes at bike-station i in scenario s} \\\\\n",
    "T_is^{-}: \\text{Lack of bikes at bike-station i in scenario s} \\\\\n",
    "$$\n",
    "\n",
    "<b>Formulation:</b>\n",
    "$$\n",
    "\\begin{align*}\n",
    "    \\text{minimize: }   & c \\sum_{i}^B x_i + \\sum_{s=1}^S p_s\\sum_{i=1}^B [v_i\\sum_{j=1}^B I_{ijs}^{-} + w_iO_{is}^{-} + \\sum_{j=1}^B t_{ij}\\tau_{ijs}]\\\\\n",
    "    \\text{subject to: }   \n",
    "        & x_{i} \\le k_i, \\forall i \\in B &\\text{(Bike Station Capacity)}\\\\\n",
    "        & \\beta_{ijs} = \\xi_{ijs} - I_{ijs}^{-} , \\forall i,j \\in B, s \\in S &\\text{(rented bike successfully made from station i to j)}\\\\\n",
    "        & I_{is}^{+} - \\sum_{j=1}^B I_{ijs}^{-} = x_i - \\sum_{j=1}^B \\xi_{ijs} , \\forall i \\in B, s \\in S &\\text{(realized surplus and shortage)}\\\\\n",
    "        & O_{is}^{+} - O_{is}^{-} = k_i - x_i + \\sum_{j=1}^B \\beta_{ijs} - \\sum_{j=1}^B \\beta_{ijs}, \\forall i \\in B, s \\in S &\\text{(residual capacity and overflow after rental)}\\\\\n",
    "        & \\sum_{j=1}^{B} \\rho_{ijs} = O_{is}^{-}, \\forall i \\in B, s \\in S &\\text{(Redirection identifies station overflow)}\\\\\n",
    "        & \\sum_{j=1}^{B} \\rho_{jis} \\le O_{is}^{+}, \\forall i \\in B, s \\in S &\\text{(Sucessful redirection less than residual capacity)}\\\\\n",
    "        & T_{is}^{+} - T_{is}^{-} = k_i - O_{is}^{+} + \\sum_{j=1}^{B}\\rho_{jis} - x_i, \\forall i \\in B, s \\in S &\\text{(Excess and Lack of bikes at stations)}\\\\\n",
    "        & \\sum_{j=1}^{B}\\tau_{ijs} = T_{is}^{+}, \\forall i \\in B, s \\in S &\\text{(Transshipment of excessive bikes)}\\\\\n",
    "        & \\sum_{j=1}^{B}\\tau_{jis} = T_{is}^{-}, \\forall i \\in B, s \\in S &\\text{(Transshipment fulfillment)}\\\\\n",
    "        & x_i, I_{is}^{+}, O_{is}^{+}, O_{is}^{-}, T_{is}^{+}, T_{is}^{-} \\in \\mathbb{Z}^{+}, \\forall i \\in B, s \\in S\\\\\n",
    "        & \\tau_{ijs}, \\beta_{ijs}, \\rho_{ijs}, I_{ijs}^{-} \\in \\mathbb{Z}^{+}, , \\forall i,j \\in B, s \\in S\\\\\n",
    "\\end{align*}\n",
    "$$"
   ]
  },
  {
   "cell_type": "markdown",
   "metadata": {
    "id": "oBSsFcXX9M9b"
   },
   "source": [
    "## Building Model"
   ]
  },
  {
   "cell_type": "code",
   "execution_count": 7,
   "metadata": {
    "id": "ajExGLbioPQh"
   },
   "outputs": [
    {
     "name": "stdout",
     "output_type": "stream",
     "text": [
      "Using license file /Users/ruijian/gurobi.lic\n",
      "Academic license - for non-commercial use only\n"
     ]
    }
   ],
   "source": [
    "MP = Model(\"Master Problem\")\n",
    "CutViolationTolerance = 0.0001"
   ]
  },
  {
   "cell_type": "markdown",
   "metadata": {},
   "source": [
    "### Set variables"
   ]
  },
  {
   "cell_type": "code",
   "execution_count": 8,
   "metadata": {},
   "outputs": [],
   "source": [
    "# first stage variables\n",
    "x = MP.addVars(Bset, vtype=GRB.INTEGER, name='x')\n",
    "\n",
    "eta = MP.addVars(Sset, name=\"eta\")\n",
    "\n",
    "MP.addConstrs((x[i] <= capacity_i[i] for i in Bset), name=\"capacity constr\")\n",
    "\n",
    "MP.setObjective(c*quicksum(x[i]for i in Bset) \\\n",
    "               + quicksum(p_s[s]*eta[s] for s in Sset) )"
   ]
  },
  {
   "cell_type": "markdown",
   "metadata": {},
   "source": [
    "### Set modelsense"
   ]
  },
  {
   "cell_type": "code",
   "execution_count": 9,
   "metadata": {},
   "outputs": [],
   "source": [
    "MP.modelSense = GRB.MINIMIZE\n",
    "MP.Params.outputFlag = 0  # turn off output\n",
    "MP.params.logtoconsole=0  # turn off logging of process "
   ]
  },
  {
   "cell_type": "markdown",
   "metadata": {},
   "source": [
    "### Build subproblem"
   ]
  },
  {
   "cell_type": "code",
   "execution_count": 10,
   "metadata": {},
   "outputs": [],
   "source": [
    "# second stage variables\n",
    "SP = Model(\"SP\")\n",
    "SP.Params.outputFlag = 0  # turn off output\n",
    "SP.params.logtoconsole=0  # turn off logging of process \n",
    "\n",
    "\n",
    "beta_ij = SP.addVars(Bset, Bset, name='beta_ij')\n",
    "I_i_surplus = SP.addVars(Bset, name='I_ij_surplus')\n",
    "I_ij_shortage = SP.addVars(Bset,Bset, name='I_ij_shortage')\n",
    "rho_ij = SP.addVars(Bset,Bset, name='rho_ij')\n",
    "O_i_resCap = SP.addVars(Bset, name='O_i_resCap')\n",
    "O_i_overF = SP.addVars(Bset, name='O_i_overF')\n",
    "tau_ij = SP.addVars(Bset,Bset, name='tau_ij')\n",
    "T_i_excess = SP.addVars(Bset, name='T_i_excess')\n",
    "T_i_lack = SP.addVars(Bset, name='T_i_lack')\n",
    "\n",
    "SP.setObjective(quicksum(v_i * I_ij_shortage.sum(i,'*')\\\n",
    "                                          + w_i * O_i_overF[i] \\\n",
    "                                          + t_ij * tau_ij.sum(i, '*') for i in Bset))"
   ]
  },
  {
   "cell_type": "code",
   "execution_count": 11,
   "metadata": {},
   "outputs": [],
   "source": [
    "a_plus_constr = {}\n",
    "a_minus_constr = {}\n",
    "b_plus_constr = {}\n",
    "b_minus_constr = {}\n",
    "c_plus_constr = {}\n",
    "c_minus_constr = {}\n",
    "d_constr = {}\n",
    "e_constr = {}\n",
    "f_plus_constr = {}\n",
    "f_minus_constr = {}\n",
    "g_constr = {}\n",
    "h_constr = {}"
   ]
  },
  {
   "cell_type": "markdown",
   "metadata": {},
   "source": [
    "### Set constraints"
   ]
  },
  {
   "cell_type": "code",
   "execution_count": 12,
   "metadata": {},
   "outputs": [],
   "source": [
    "for ij in Bij_set:\n",
    "    a_plus_constr[ij] = SP.addConstr(beta_ij[ij] + I_ij_shortage[ij] <= 0, name=\"a_plus_\"+str(ij))\n",
    "    a_minus_constr[ij] = SP.addConstr(-beta_ij[ij] - I_ij_shortage[ij] <= 0, name=\"a_minus_\"+str(ij))"
   ]
  },
  {
   "cell_type": "code",
   "execution_count": 13,
   "metadata": {},
   "outputs": [],
   "source": [
    "for i in Bset:\n",
    "    b_plus_constr[i] = SP.addConstr(I_i_surplus[i] - I_ij_shortage.sum(i, '*') <= 0, name=\"b_plus_\"+str(i))\n",
    "    b_minus_constr[i] = SP.addConstr(-I_i_surplus[i] + I_ij_shortage.sum(i, '*') <= 0, name=\"b_minus_\"+str(i))"
   ]
  },
  {
   "cell_type": "code",
   "execution_count": 14,
   "metadata": {},
   "outputs": [],
   "source": [
    "for i in Bset:\n",
    "    c_plus_constr[i] = SP.addConstr(O_i_resCap[i] - O_i_overF[i] \\\n",
    "                                    -beta_ij.sum(i, '*') + beta_ij.sum('*', i) <= 0, name=\"c_plus_\"+str(i))\n",
    "    c_minus_constr[i] = SP.addConstr(-O_i_resCap[i] + O_i_overF[i] \\\n",
    "                                    +beta_ij.sum(i, '*') - beta_ij.sum('*', i) <= 0, name=\"c_minus_\"+str(i))"
   ]
  },
  {
   "cell_type": "code",
   "execution_count": 15,
   "metadata": {},
   "outputs": [],
   "source": [
    "for i in Bset:\n",
    "    d_constr[i] = SP.addConstr(rho_ij.sum(i, '*') == O_i_overF[i], name=\"d_\"+str(i))"
   ]
  },
  {
   "cell_type": "code",
   "execution_count": 16,
   "metadata": {},
   "outputs": [],
   "source": [
    "for i in Bset:\n",
    "    e_constr[i] = SP.addConstr(rho_ij.sum('*', i) <= O_i_resCap[i], name=\"e_\"+str(i))  "
   ]
  },
  {
   "cell_type": "code",
   "execution_count": 17,
   "metadata": {},
   "outputs": [],
   "source": [
    "for i in Bset:\n",
    "    f_plus_constr[i] = SP.addConstr(T_i_excess[i] - T_i_lack[i] \\\n",
    "                                    + O_i_resCap[i] - rho_ij.sum('*', i) <= 0, name=\"f_plus_\"+str(i))\n",
    "    f_minus_constr[i] = SP.addConstr(-T_i_excess[i] + T_i_lack[i] \\\n",
    "                                    - O_i_resCap[i] + rho_ij.sum('*', i) <= 0, name=\"f_minus_\"+str(i))"
   ]
  },
  {
   "cell_type": "code",
   "execution_count": 18,
   "metadata": {},
   "outputs": [],
   "source": [
    "for i in Bset:\n",
    "    g_constr[i] = SP.addConstr(tau_ij.sum(i, '*') == T_i_excess[i], name='g_'+str(i))"
   ]
  },
  {
   "cell_type": "code",
   "execution_count": 19,
   "metadata": {},
   "outputs": [],
   "source": [
    "for i in Bset:\n",
    "    h_constr[i] = SP.addConstr(tau_ij.sum('*', i) == T_i_lack[i], name=\"h_\"+str(i))"
   ]
  },
  {
   "cell_type": "code",
   "execution_count": 20,
   "metadata": {},
   "outputs": [],
   "source": [
    "def ModifyAndSolveSP(s, single=False):\n",
    "    # Modify constraint rhs and update\n",
    "    for ij in Bij_set:\n",
    "        a_plus_constr[ij].rhs = demScens[(ij, s)]\n",
    "        a_minus_constr[ij].rhs = -demScens[(ij, s)]\n",
    "        SP.update()\n",
    "    for i in Bset:\n",
    "        b_plus_constr[i].rhs = x_sol[i] - sum([demScens[(i, j), s] for j in Bset])\n",
    "        b_minus_constr[i].rhs = -(x_sol[i] - sum([demScens[(i, j), s] for j in Bset]))\n",
    "        SP.update()\n",
    "    for i in Bset:\n",
    "        c_plus_constr[i].rhs = capacity_i[i] - x_sol[i]\n",
    "        c_minus_constr[i].rhs = -(capacity_i[i] - x_sol[i])\n",
    "        SP.update()\n",
    "    for i in Bset:\n",
    "        f_plus_constr[i].rhs = capacity_i[i] - x_sol[i]\n",
    "        f_minus_constr[i].rhs = -(capacity_i[i] - x_sol[i])\n",
    "        SP.update()\n",
    "        \n",
    "#     SP.write(\"myfile.lp\")\n",
    "        \n",
    "    # Solve and get the DUAL solution\n",
    "    SP.optimize()\n",
    "    \n",
    "    # Get dual variable solutions\n",
    "    a_plus_sol = {ij: a_plus_constr[ij].Pi for ij in Bij_set}\n",
    "    a_minus_sol = {ij: a_minus_constr[ij].Pi for ij in Bij_set}\n",
    "    \n",
    "    b_plus_sol = {i: b_plus_constr[i].Pi for i in Bset}\n",
    "    b_minus_sol = {i: b_minus_constr[i].Pi for i in Bset}\n",
    "    \n",
    "    c_plus_sol = {i: c_plus_constr[i].Pi for i in Bset}\n",
    "    c_minus_sol = {i: c_minus_constr[i].Pi for i in Bset}\n",
    "    \n",
    "    f_plus_sol = {i: f_plus_constr[i].Pi for i in Bset}\n",
    "    f_minus_sol = {i: f_minus_constr[i].Pi for i in Bset}\n",
    "    \n",
    "\n",
    "    SPobj = SP.objVal\n",
    "\n",
    "    # Check whether a violated Benders cut is found for multi-cut benders\n",
    "    CutFound = False\n",
    "    if(single == False and eta_sol[s] < SPobj - CutViolationTolerance): # Found Benders cut is violated at the current master solution\n",
    "        CutFound = True\n",
    "\n",
    "    return SPobj, CutFound, a_plus_sol, a_minus_sol, b_plus_sol, b_minus_sol, c_plus_sol, c_minus_sol, f_plus_sol, f_minus_sol"
   ]
  },
  {
   "cell_type": "code",
   "execution_count": 21,
   "metadata": {},
   "outputs": [
    {
     "name": "stdout",
     "output_type": "stream",
     "text": [
      "----------------------------Iteration: 1 ----------------------------\n",
      "MPobj: 0\n",
      "LB: 0.0\n",
      "UB: 922.7297608000001\n",
      "\n",
      "Number of cut added: 100\n",
      "\n",
      "----------------------------Iteration: 2 ----------------------------\n",
      "MPobj: 424.024\n",
      "LB: 424.0240471999999\n",
      "UB: 792.9301880999998\n",
      "\n",
      "Number of cut added: 100\n",
      "\n",
      "----------------------------Iteration: 3 ----------------------------\n",
      "MPobj: 424.888\n",
      "LB: 424.88781939999984\n",
      "UB: 693.7812904\n",
      "\n",
      "Number of cut added: 100\n",
      "\n",
      "----------------------------Iteration: 4 ----------------------------\n",
      "MPobj: 449.345\n",
      "LB: 449.3447088\n",
      "UB: 653.997961\n",
      "\n",
      "Number of cut added: 100\n",
      "\n",
      "----------------------------Iteration: 5 ----------------------------\n",
      "MPobj: 497.442\n",
      "LB: 497.44226270000036\n",
      "UB: 661.3770032999998\n",
      "\n",
      "Number of cut added: 100\n",
      "\n",
      "----------------------------Iteration: 6 ----------------------------\n",
      "MPobj: 504.279\n",
      "LB: 504.27891490000013\n",
      "UB: 651.174937\n",
      "\n",
      "Number of cut added: 100\n",
      "\n",
      "----------------------------Iteration: 7 ----------------------------\n",
      "MPobj: 512.018\n",
      "LB: 512.0177454999999\n",
      "UB: 645.3006092999999\n",
      "\n",
      "Number of cut added: 100\n",
      "\n",
      "----------------------------Iteration: 8 ----------------------------\n",
      "MPobj: 518.707\n",
      "LB: 518.7074149999999\n",
      "UB: 594.1070057\n",
      "\n",
      "Number of cut added: 100\n",
      "\n",
      "----------------------------Iteration: 9 ----------------------------\n",
      "MPobj: 526.394\n",
      "LB: 526.3937853999998\n",
      "UB: 594.2711017999995\n",
      "\n",
      "Number of cut added: 100\n",
      "\n",
      "----------------------------Iteration: 10 ----------------------------\n",
      "MPobj: 535.657\n",
      "LB: 535.6573374999999\n",
      "UB: 600.3201329999998\n",
      "\n",
      "Number of cut added: 100\n",
      "\n",
      "----------------------------Iteration: 11 ----------------------------\n",
      "MPobj: 542.088\n",
      "LB: 542.0878954000001\n",
      "UB: 573.4770109000006\n",
      "\n",
      "Number of cut added: 100\n",
      "\n",
      "----------------------------Iteration: 12 ----------------------------\n",
      "MPobj: 547.863\n",
      "LB: 547.8628513\n",
      "UB: 574.4017906000003\n",
      "\n",
      "Number of cut added: 100\n",
      "\n",
      "----------------------------Iteration: 13 ----------------------------\n",
      "MPobj: 553.76\n",
      "LB: 553.7600961999996\n",
      "UB: 573.6033385999997\n",
      "\n",
      "Number of cut added: 100\n",
      "\n",
      "----------------------------Iteration: 14 ----------------------------\n",
      "MPobj: 556.563\n",
      "LB: 556.5634005\n",
      "UB: 570.6024173999999\n",
      "\n",
      "Number of cut added: 100\n",
      "\n",
      "----------------------------Iteration: 15 ----------------------------\n",
      "MPobj: 558.161\n",
      "LB: 558.1606424000001\n",
      "UB: 564.9387842000002\n",
      "\n",
      "Number of cut added: 98\n",
      "\n",
      "----------------------------Iteration: 16 ----------------------------\n",
      "MPobj: 560.656\n",
      "LB: 560.6564223000003\n",
      "UB: 565.7900283000001\n",
      "\n",
      "Number of cut added: 97\n",
      "\n",
      "----------------------------Iteration: 17 ----------------------------\n",
      "MPobj: 561.782\n",
      "LB: 561.7818125999994\n",
      "UB: 564.8980680000002\n",
      "\n",
      "Number of cut added: 85\n",
      "\n",
      "----------------------------Iteration: 18 ----------------------------\n",
      "MPobj: 562.39\n",
      "LB: 562.3899796\n",
      "UB: 566.2781898000004\n",
      "\n",
      "Number of cut added: 86\n",
      "\n",
      "----------------------------Iteration: 19 ----------------------------\n",
      "MPobj: 562.779\n",
      "LB: 562.7787449999723\n",
      "UB: 566.1846057\n",
      "\n",
      "Number of cut added: 94\n",
      "\n",
      "----------------------------Iteration: 20 ----------------------------\n",
      "MPobj: 563.097\n",
      "LB: 563.0968291000005\n",
      "UB: 565.3125176000002\n",
      "\n",
      "Number of cut added: 81\n",
      "\n",
      "----------------------------Iteration: 21 ----------------------------\n",
      "MPobj: 563.354\n",
      "LB: 563.3536938999997\n",
      "UB: 564.3059359000003\n",
      "\n",
      "Number of cut added: 68\n",
      "\n",
      "----------------------------Iteration: 22 ----------------------------\n",
      "MPobj: 563.447\n",
      "LB: 563.4469218\n",
      "UB: 564.6506783000001\n",
      "\n",
      "Number of cut added: 55\n",
      "\n",
      "----------------------------Iteration: 23 ----------------------------\n",
      "MPobj: 563.518\n",
      "LB: 563.5183870999996\n",
      "UB: 565.0439310000004\n",
      "\n",
      "Number of cut added: 88\n",
      "\n",
      "----------------------------Iteration: 24 ----------------------------\n",
      "MPobj: 563.627\n",
      "LB: 563.6270783999995\n",
      "UB: 564.0308867999998\n",
      "\n",
      "Number of cut added: 33\n",
      "\n",
      "----------------------------Iteration: 25 ----------------------------\n",
      "MPobj: 563.68\n",
      "LB: 563.6799072999995\n",
      "UB: 564.9941269000002\n",
      "\n",
      "Number of cut added: 73\n",
      "\n",
      "----------------------------Iteration: 26 ----------------------------\n",
      "MPobj: 563.71\n",
      "LB: 563.7098750999993\n",
      "UB: 564.1046291999999\n",
      "\n",
      "Number of cut added: 25\n",
      "\n",
      "----------------------------Iteration: 27 ----------------------------\n",
      "MPobj: 563.792\n",
      "LB: 563.7922113000002\n",
      "UB: 565.2067410999997\n",
      "\n",
      "Number of cut added: 84\n",
      "\n",
      "----------------------------Iteration: 28 ----------------------------\n",
      "MPobj: 563.828\n",
      "LB: 563.8275880000001\n",
      "UB: 564.5421142000001\n",
      "\n",
      "Number of cut added: 25\n",
      "\n",
      "----------------------------Iteration: 29 ----------------------------\n",
      "MPobj: 563.864\n",
      "LB: 563.8638661999989\n",
      "UB: 564.0117530000003\n",
      "\n",
      "Number of cut added: 6\n",
      "\n",
      "----------------------------Iteration: 30 ----------------------------\n",
      "MPobj: 563.87\n",
      "LB: 563.8696083000002\n",
      "UB: 563.9660781000002\n",
      "\n",
      "Number of cut added: 8\n",
      "\n",
      "----------------------------Iteration: 31 ----------------------------\n",
      "MPobj: 563.887\n",
      "LB: 563.8873402999998\n",
      "UB: 563.9559263999998\n",
      "\n",
      "Number of cut added: 5\n",
      "\n",
      "----------------------------Iteration: 32 ----------------------------\n",
      "MPobj: 563.914\n",
      "LB: 563.9143839\n",
      "UB: 563.9447413\n",
      "\n",
      "Number of cut added: 3\n",
      "\n",
      "----------------------------Iteration: 33 ----------------------------\n",
      "MPobj: 563.945\n",
      "LB: 563.9447413\n",
      "UB: 563.9447413\n",
      "\n",
      "Number of cut added: 0\n",
      "\n",
      "\n",
      "Optimal Solution:\n",
      "Algorithm duration: 0:01:38.087040\n",
      "MPobj: 563.945\n",
      "BestLB: 563.9447413\n",
      "\n",
      "BestUB: 563.9447413\n",
      "\n",
      "NoIters: 33\n",
      "Total number of cuts added: 2414\n"
     ]
    }
   ],
   "source": [
    "CutFound = True\n",
    "NoIters = 0\n",
    "MaxIters = 5000\n",
    "BestUB = GRB.INFINITY\n",
    "BestLB = -GRB.INFINITY\n",
    "start=datetime.now()\n",
    "totalNumCut = 0\n",
    "\n",
    "LB_lst = []\n",
    "UB_lst = []\n",
    "cuts = []\n",
    "while(CutFound and NoIters < MaxIters):\n",
    "    NoIters += 1\n",
    "    CutFound = False\n",
    "    \n",
    "    print(\"----------------------------Iteration: %d ----------------------------\" %NoIters)\n",
    "\n",
    "    # Solve MP\n",
    "    MP.update()\n",
    "    MP.optimize()\n",
    "\n",
    "    # Get MP solution\n",
    "    MPobj = MP.objVal\n",
    "    print('MPobj: %g' % MPobj)\n",
    "\n",
    "    # get x_a^hat\n",
    "    x_sol = {i: x[i].x for i in Bset}\n",
    "\n",
    "    eta_sol = {s: eta[s].x for s in Sset}     \n",
    "    \n",
    "    LB = MPobj\n",
    "    UB = c * sum([x_sol[i] for i in Bset])   # Get first stage part for the solution \n",
    "    num_cut = 0\n",
    "    \n",
    "    #loop through scenarios \n",
    "    for s in Sset:\n",
    "        Qvalue, CutFound_s, a_plus_sol, a_minus_sol, b_plus_sol, b_minus_sol, c_plus_sol, c_minus_sol, f_plus_sol, f_minus_sol = ModifyAndSolveSP(s)\n",
    "        UB += p_s[s] * Qvalue\n",
    "        \n",
    "        # if cut found for current scenario\n",
    "        if(CutFound_s):\n",
    "            CutFound = True\n",
    " \n",
    "            \n",
    "            expr = LinExpr(eta[s] - quicksum(demScens[(ij, s)]*a_plus_sol[ij] for ij in Bij_set)\\\n",
    "                           +quicksum(demScens[(ij, s)]*a_minus_sol[ij] for ij in Bij_set)\\\n",
    "                           -quicksum((x[i] - sum([demScens[(i, j), s] for j in Bset])) * b_plus_sol[i] for i in Bset)\\\n",
    "                           +quicksum((x[i] - sum([demScens[(i, j), s] for j in Bset])) * b_minus_sol[i] for i in Bset)\\\n",
    "                           -quicksum((capacity_i[i] - x[i]) * c_plus_sol[i] for i in Bset)\\\n",
    "                           +quicksum((capacity_i[i] - x[i]) * c_minus_sol[i] for i in Bset)\\\n",
    "                           -quicksum((capacity_i[i] - x[i]) * f_plus_sol[i] for i in Bset)\\\n",
    "                           +quicksum((capacity_i[i] - x[i]) * f_minus_sol[i] for i in Bset))\n",
    "\n",
    "            \n",
    "            # add in cuts, for here is only adding one single cut \n",
    "            MP.addConstr(expr >= 0, \"eta_constr_\"+str(s)+\"_\"+str(NoIters))\n",
    "            num_cut += 1\n",
    "    \n",
    "    # Update LB and UB \n",
    "    if(UB < BestUB):\n",
    "        BestUB = UB\n",
    "    if(LB > BestLB):\n",
    "        BestLB = LB\n",
    "        \n",
    "    LB_lst.append(LB)\n",
    "    UB_lst.append(UB)\n",
    "    cuts.append(num_cut)\n",
    "    print(\"LB: \" + str(LB))\n",
    "    print(\"UB: \" + str(UB) + \"\\n\")\n",
    "    print(\"Number of cut added: \" + str(num_cut) + \"\\n\")\n",
    "    totalNumCut += num_cut\n",
    "\n",
    "print('\\nOptimal Solution:')\n",
    "print(\"Algorithm duration:\", datetime.now()-start)\n",
    "print('MPobj: %g' % MPobj)\n",
    "print(\"BestLB: \" + str(BestLB) + \"\\n\")\n",
    "print(\"BestUB: \" + str(BestUB) + \"\\n\")\n",
    "print(\"NoIters: \" + str(NoIters))\n",
    "print(\"Total number of cuts added: \" + str(totalNumCut))"
   ]
  },
  {
   "cell_type": "code",
   "execution_count": 25,
   "metadata": {},
   "outputs": [
    {
     "ename": "NameError",
     "evalue": "name 'exponential_ln' is not defined",
     "output_type": "error",
     "traceback": [
      "\u001b[0;31m---------------------------------------------------------------------------\u001b[0m",
      "\u001b[0;31mNameError\u001b[0m                                 Traceback (most recent call last)",
      "\u001b[0;32m<ipython-input-25-7706e671ee19>\u001b[0m in \u001b[0;36m<module>\u001b[0;34m\u001b[0m\n\u001b[1;32m      9\u001b[0m \u001b[0;31m# exponential_ln, = plt.plot(x,rt_exponential, marker='D', color='orange', label='exponential')\u001b[0m\u001b[0;34m\u001b[0m\u001b[0;34m\u001b[0m\u001b[0;34m\u001b[0m\u001b[0m\n\u001b[1;32m     10\u001b[0m \u001b[0;31m# uniform_ln, = plt.plot(x,rt_uniform, marker='H', color='magenta', label='uniform')\u001b[0m\u001b[0;34m\u001b[0m\u001b[0;34m\u001b[0m\u001b[0;34m\u001b[0m\u001b[0m\n\u001b[0;32m---> 11\u001b[0;31m \u001b[0mplt\u001b[0m\u001b[0;34m.\u001b[0m\u001b[0mlegend\u001b[0m\u001b[0;34m(\u001b[0m\u001b[0mhandles\u001b[0m\u001b[0;34m=\u001b[0m\u001b[0;34m[\u001b[0m\u001b[0mlognormal_ln\u001b[0m\u001b[0;34m,\u001b[0m \u001b[0mnormal_ln\u001b[0m\u001b[0;34m,\u001b[0m\u001b[0mexponential_ln\u001b[0m\u001b[0;34m,\u001b[0m \u001b[0muniform_ln\u001b[0m\u001b[0;34m]\u001b[0m\u001b[0;34m)\u001b[0m\u001b[0;34m\u001b[0m\u001b[0;34m\u001b[0m\u001b[0m\n\u001b[0m\u001b[1;32m     12\u001b[0m \u001b[0;34m\u001b[0m\u001b[0m\n\u001b[1;32m     13\u001b[0m \u001b[0mplt\u001b[0m\u001b[0;34m.\u001b[0m\u001b[0mshow\u001b[0m\u001b[0;34m(\u001b[0m\u001b[0;34m)\u001b[0m\u001b[0;34m\u001b[0m\u001b[0;34m\u001b[0m\u001b[0m\n",
      "\u001b[0;31mNameError\u001b[0m: name 'exponential_ln' is not defined"
     ]
    },
    {
     "data": {
      "image/png": "[encoded data removed]",
      "text/plain": [
       "<Figure size 432x288 with 1 Axes>"
      ]
     },
     "metadata": {
      "needs_background": "light"
     },
     "output_type": "display_data"
    }
   ],
   "source": []
  },
  {
   "cell_type": "code",
   "execution_count": 44,
   "metadata": {},
   "outputs": [],
   "source": [
    "sub = np.load(\"scutub.npy\")\n",
    "slb = np.load(\"scutlb.npy\")"
   ]
  },
  {
   "cell_type": "code",
   "execution_count": 45,
   "metadata": {},
   "outputs": [
    {
     "data": {
      "image/png": "[encoded data removed]",
      "text/plain": [
       "<Figure size 432x288 with 1 Axes>"
      ]
     },
     "metadata": {
      "needs_background": "light"
     },
     "output_type": "display_data"
    }
   ],
   "source": [
    "import matplotlib.pyplot as plt\n",
    "l = len(UB_lst)\n",
    "plt.xlabel('Number of iterations') \n",
    "plt.ylabel('Value')\n",
    "x = np.arange(len(UB_lst))\n",
    "plt.xticks(range(0, len(UB_lst), 4))\n",
    "mub, = plt.plot(x,UB_lst, marker='*', color='blue', label='multi cut UB')\n",
    "mlb, = plt.plot(x,LB_lst, marker='*', color='green', label='multi cut LB')\n",
    "sub, = plt.plot(x,sub[:l], marker='D', color='magenta', label='single cut UB')\n",
    "slb, = plt.plot(x,slb[:l], marker='D', color='orange', label='single cut LB')\n",
    "plt.legend(handles=[mub, mlb, slb, sub])\n",
    "\n",
    "plt.show()"
   ]
  },
  {
   "cell_type": "code",
   "execution_count": 53,
   "metadata": {},
   "outputs": [
    {
     "data": {
      "image/png": "[encoded data removed]",
      "text/plain": [
       "<Figure size 432x288 with 1 Axes>"
      ]
     },
     "metadata": {
      "needs_background": "light"
     },
     "output_type": "display_data"
    }
   ],
   "source": [
    "plt.xlabel('Number of iterations') \n",
    "plt.ylabel('Number of Cuts')\n",
    "l = len(UB_lst)\n",
    "x = np.arange(l)\n",
    "plt.xticks(range(0, len(UB_lst), 4))\n",
    "single, = plt.plot(x, x, marker='*', color='blue', label='single cut')\n",
    "mult, = plt.plot(x, np.cumsum(cuts), marker='D', color='green', label=\"multi cut\")\n",
    "plt.legend(handles=[single, mult])\n",
    "\n",
    "plt.show()"
   ]
  },
  {
   "cell_type": "code",
   "execution_count": 54,
   "metadata": {},
   "outputs": [
    {
     "data": {
      "text/plain": [
       "array([ 0,  1,  2,  3,  4,  5,  6,  7,  8,  9, 10, 11, 12, 13, 14, 15, 16,\n",
       "       17, 18, 19, 20, 21, 22, 23, 24, 25, 26, 27, 28, 29, 30, 31, 32])"
      ]
     },
     "execution_count": 54,
     "metadata": {},
     "output_type": "execute_result"
    }
   ],
   "source": [
    "x"
   ]
  },
  {
   "cell_type": "code",
   "execution_count": null,
   "metadata": {},
   "outputs": [],
   "source": []
  }
 ],
 "metadata": {
  "colab": {
   "name": "Extensive_Form.ipynb",
   "provenance": [],
   "toc_visible": true
  },
  "kernelspec": {
   "display_name": "Python 3",
   "language": "python",
   "name": "python3"
  },
  "language_info": {
   "codemirror_mode": {
    "name": "ipython",
    "version": 3
   },
   "file_extension": ".py",
   "mimetype": "text/x-python",
   "name": "python",
   "nbconvert_exporter": "python",
   "pygments_lexer": "ipython3",
   "version": "3.8.5"
  }
 },
 "nbformat": 4,
 "nbformat_minor": 1
}
