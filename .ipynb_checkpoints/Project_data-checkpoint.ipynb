{
 "cells": [
  {
   "cell_type": "code",
   "execution_count": 1,
   "metadata": {
    "id": "Gz0WTqpWh-op"
   },
   "outputs": [],
   "source": [
    "import numpy as np\n",
    "import pandas as pd\n",
    "import math\n",
    "import pickle\n",
    "import json\n",
    "from numpy.random import rand, randint, exponential, normal, uniform, lognormal, dirichlet"
   ]
  },
  {
   "cell_type": "code",
   "execution_count": 3,
   "metadata": {
    "id": "64nGG-vUlFli"
   },
   "outputs": [],
   "source": [
    "data_dir = './data/'"
   ]
  },
  {
   "cell_type": "code",
   "execution_count": 4,
   "metadata": {
    "id": "Los5TEVrdYU7"
   },
   "outputs": [],
   "source": [
    "# functions for dumping and loading generated data files\n",
    "def pickle_dump(file_to_dump, file_dir):\n",
    "  with open(file_dir, \"wb\") as fp:   #Pickling\n",
    "    pickle.dump(file_to_dump, fp)\n",
    "\n",
    "def pickle_load(file_dir):\n",
    "  with open(file_dir, \"rb\") as fp:   # Unpickling\n",
    "    return pickle.load(fp)\n",
    "\n",
    "def json_dump(file_to_dump, file_dir):\n",
    "    with open(file_dir, 'w') as fp:\n",
    "        json.dump(file_to_dump, fp)\n",
    "\n",
    "def json_load(file_dir):\n",
    "    with open(file_dir) as f:\n",
    "        return json.load(f)"
   ]
  },
  {
   "cell_type": "markdown",
   "metadata": {
    "id": "mUAeUsg9h-op"
   },
   "source": [
    "### <b>1.Sets initialization</b>\n",
    "\n",
    "B: set of bike-stations, B = {1, ..., B} <br>\n",
    "S: set of scenarios, S = {1,...,S} or finit set of possible realization of the uncertainty."
   ]
  },
  {
   "cell_type": "code",
   "execution_count": 5,
   "metadata": {
    "id": "HUjoH6Q0h-op"
   },
   "outputs": [],
   "source": [
    "# Sets\n",
    "Bset = 'A,B,C,D,E,F,G,H,I,J,K,L,M,N,O,P,Q,R,S,T,U,V'.split(',')  # 22 Bike Stations\n",
    "Bij_set = [(bike2, bike) for bike2 in Bset for bike in Bset]     # Bike pairs \n",
    "scenario_num = 100                                               # Total scenario numbers (using for now)\n",
    "Sset = ['S'+str(s) for s in range(scenario_num)]                 # Scenario sets"
   ]
  },
  {
   "cell_type": "code",
   "execution_count": 6,
   "metadata": {
    "id": "yG1SfbKYdXZC"
   },
   "outputs": [],
   "source": [
    "# dump sets\n",
    "pickle_dump(Bset, data_dir + 'Bset.txt')\n",
    "pickle_dump(Bij_set, data_dir + 'Bij_set.txt')\n",
    "pickle_dump(Sset, data_dir+'Sset_' + str(scenario_num) + '.txt')"
   ]
  },
  {
   "cell_type": "markdown",
   "metadata": {
    "id": "bzyvAlc8h-op"
   },
   "source": [
    "#### <b>2.Deterministic parameters</b>\n",
    "\n",
    "c: procurement cost per bike at each bike-station at the beginning of the service <br>\n",
    "$v_i$: stock-out cost per bike at bike-station i $\\in$ B <br>\n",
    "$w_i$: time-waste cost per bike due to overflow at bike-station i $\\in$ B <br>\n",
    "$t_{ij}$: unit transshipment cost per bike transshiped from bike-station i to bike-station j, i,j $\n",
    "\\in$ B <br>\n",
    "$k_i$: capacity of bike-station i $\\in$ B <br>\n",
    "$\\xi_{ijk}$: rental demand from bike-station i to bike-station j in scenario s, i, j $\\in$ B, s $\\in$ S  <br>\n",
    "$p_s \\in [0,1]$: probability of scenario s $\\in$ S, $\\sum_{s=1}^{S} p_s$ = 1<br>\n",
    "\n"
   ]
  },
  {
   "cell_type": "code",
   "execution_count": 22,
   "metadata": {
    "id": "Eyu_ozMch-op"
   },
   "outputs": [],
   "source": [
    "c = 2         # unit procurement cost\n",
    "v_i = 4       # stock-out cost\n",
    "w_i = 8       # time-waste cost \n",
    "t_ij = 1      # unit transshipment cost \n",
    "deterministic_params = {'c': c, 'v_i': v_i, 'w_i': w_i, 't_ij': t_ij}\n",
    "\n",
    "# capacity for each station \n",
    "k_i = [22, 10, 10, 17, 19, 12, 20, 8, 8, 20, 10, 19, 8, 10, 10, 10, 18, 10, 8, 12, 12, 10]\n",
    "capacity_i = {Bset[index] : k_i[index] for index in range(len(Bset))}\n",
    "capacity_i_constant = {station: 30 for station in Bset}   # for the constant capacity case (not using for now)\n",
    "\n",
    "# Stochastic demand\n",
    "np.random.seed(1612)\n",
    "demScens = {}\n",
    "prob = np.around(np.random.dirichlet(np.ones(len(Sset))), decimals = 7)      # not consistent?\n",
    "p_s = {scenario: prob[int(''.join(list(scenario)[1:]))]  for scenario in Sset}\n",
    "\n",
    "# Generate stochastic demand for each station pair \n",
    "distribution_choice = 'log-normal'\n",
    "\n",
    "# Generate demand using log-normal distribution \n",
    "if distribution_choice == 'log-normal':\n",
    "  # get log-normal distribution information \n",
    "  log_normal_mean = {station_pair: randint(math.log(2), math.log(6)) for station_pair in Bij_set}   #based on table 12 result /22, shifted +2\n",
    "  log_normal_stdev = {station_pair: rand() for station_pair in Bij_set}\n",
    "\n",
    "  # stochastic demand stored in form {((B_i, B_j), S_s) : demand}\n",
    "  for station_pair in Bij_set:\n",
    "    for scenario in Sset:\n",
    "      # diagonal demands set to 0 \n",
    "      if station_pair[0] == station_pair[1]:\n",
    "        demScens[(station_pair[0], station_pair[1], scenario)] = 0\n",
    "      else:\n",
    "        demScens[(station_pair[0], station_pair[1], scenario)] = int(lognormal(log_normal_mean[station_pair], log_normal_stdev[station_pair]))\n"
   ]
  },
  {
   "cell_type": "code",
   "execution_count": 24,
   "metadata": {
    "id": "IfyxCPUIh-or"
   },
   "outputs": [],
   "source": [
    "# dump data\n",
    "json_dump(deterministic_params, data_dir + 'deterministic_params.json')\n",
    "json_dump(capacity_i, data_dir + 'capacity_i.json')\n",
    "json_dump(capacity_i_constant, data_dir + 'capacity_i_constant.json')\n",
    "json_dump(p_s, data_dir + 'p_s_' + str(len(p_s)) + '.json')\n",
    "pickle_dump(demScens, data_dir + 'demScens_' + distribution_choice + '_' + str(len(Sset)) + '.dict')"
   ]
  },
  {
   "cell_type": "code",
   "execution_count": null,
   "metadata": {},
   "outputs": [],
   "source": []
  }
 ],
 "metadata": {
  "colab": {
   "name": "Project_data.ipynb",
   "provenance": []
  },
  "kernelspec": {
   "display_name": "Python 3",
   "language": "python",
   "name": "python3"
  },
  "language_info": {
   "codemirror_mode": {
    "name": "ipython",
    "version": 3
   },
   "file_extension": ".py",
   "mimetype": "text/x-python",
   "name": "python",
   "nbconvert_exporter": "python",
   "pygments_lexer": "ipython3",
   "version": "3.8.5"
  }
 },
 "nbformat": 4,
 "nbformat_minor": 1
}
