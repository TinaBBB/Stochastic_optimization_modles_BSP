{
 "cells": [
  {
   "cell_type": "markdown",
   "metadata": {
    "id": "dApqT7-5mKJ_"
   },
   "source": [
    "## Load libraries"
   ]
  },
  {
   "cell_type": "code",
   "execution_count": 1,
   "metadata": {
    "colab": {
     "base_uri": "https://localhost:8080/",
     "height": 334
    },
    "id": "w2f4pJSWcYcm",
    "outputId": "b5d11134-7db9-481a-d5b4-c88044ba0306"
   },
   "outputs": [],
   "source": [
    "import numpy as np\n",
    "import pandas as pd\n",
    "import math\n",
    "import pickle\n",
    "import json\n",
    "from gurobipy import *"
   ]
  },
  {
   "cell_type": "markdown",
   "metadata": {
    "id": "Njh2tY-qmRxe"
   },
   "source": [
    "## Functions"
   ]
  },
  {
   "cell_type": "code",
   "execution_count": 2,
   "metadata": {
    "id": "mrSn0n2Sc5Sv"
   },
   "outputs": [],
   "source": [
    "def pickle_load(file_dir):\n",
    "  with open(file_dir, \"rb\") as fp:   # Unpickling\n",
    "    return pickle.load(fp)\n",
    "\n",
    "def json_load(file_dir):\n",
    "    with open(file_dir) as f:\n",
    "        return json.load(f)"
   ]
  },
  {
   "cell_type": "code",
   "execution_count": 3,
   "metadata": {
    "id": "Om5xdDbWlYOa"
   },
   "outputs": [],
   "source": [
    "data_dir = './data/'\n",
    "\n",
    "# scenario number & distribution settings\n",
    "scenario_num = 1000\n",
    "distribution_choice = 'normal'\n",
    "\n",
    "# Sets directory\n",
    "Bset_dir = data_dir + 'Bset.txt'\n",
    "Bij_set_dir = data_dir + 'Bij_set.txt'\n",
    "Sset_dir = data_dir+'Sset_' + str(scenario_num) + '.txt'\n",
    "\n",
    "deterministic_params_dir = data_dir + 'deterministic_params.json'\n",
    "capacity_i_dir = data_dir + 'capacity_i.json'\n",
    "capacity_i_constant_dir = data_dir + 'capacity_i_constant.json'\n",
    "\n",
    "p_s_dir = data_dir + 'p_s_' + str(scenario_num) + '.json'\n",
    "demScens_dir = data_dir + 'demScens_' + distribution_choice + '_' + str(scenario_num) + '.dict'"
   ]
  },
  {
   "cell_type": "code",
   "execution_count": 4,
   "metadata": {
    "id": "49YI5VrQlLUt"
   },
   "outputs": [],
   "source": [
    "# Sets\n",
    "Bset = pickle_load(Bset_dir)                                  # 22 Bike Stations\n",
    "Bij_set = pickle_load(Bij_set_dir)                                  # Bike pairs                                        \n",
    "Sset = pickle_load(Sset_dir)                                     # Scenario sets\n",
    "deterministic_params = json_load(deterministic_params_dir)       # deterministic parameters\n",
    "\n",
    "c = deterministic_params['c']                            # unit procurement cost\n",
    "v_i = deterministic_params['v_i']                               # stock-out cost\n",
    "w_i = deterministic_params['w_i']                              # time-waste cost \n",
    "t_ij = deterministic_params['t_ij']                    # unit transshipment cost \n",
    "capacity_i = json_load(capacity_i_dir)\n",
    "p_s = json_load(p_s_dir)\n",
    "demScens = pickle_load(demScens_dir)"
   ]
  },
  {
   "cell_type": "code",
   "execution_count": 5,
   "metadata": {},
   "outputs": [],
   "source": [
    "cpy = {}\n",
    "for pair, val in demScens.items():\n",
    "    cpy[((pair[0], pair[1]), pair[2])] = val\n",
    "demScens = cpy"
   ]
  },
  {
   "cell_type": "markdown",
   "metadata": {
    "id": "TlVCuvIs93aD"
   },
   "source": [
    "The formulation of the two-stage stochastic program problem i written as follows:\n",
    "\n",
    "<b>First stage varibles:</b> <br>\n",
    "$$x_i: \\text{the number of bikes to assign to bike-station i} \\in \\text{B at the beginning of the service}$$\n",
    "<b>Second stage variables: </b>\n",
    "$$\n",
    "\\beta_{ijs}: \\text{Number of rented bikes from bike-station i to bike-station j in scenario s}\\\\\n",
    "I_{is}^{+}: \\text{Realized surplus of bikes at bike-station i in scenario s} \\\\\n",
    "I_{ijs}^{-}: \\text{Realized shortage of bikes at origin-destination pair i, j in scenario s}\\\\\n",
    "\\rho_{ijs}: \\text{Number of redirected bikes from bike-station i to bike-station j in scenario s (in case of overflow)}\\\\\n",
    "O_{is}^{+}: \\text{Residual capacity at bike-station i in scenario s} \\\\\n",
    "O_{is}^{-}: \\text{Overflow at bike-station i in scenario s} \\\\\n",
    "\\tau_{ijs}: \\text{Number of transshipped bikes from bike-station i to bike-station j in scenario s} \\\\\n",
    "T_{is}^{+}: \\text{Excess of bikes at bike-station i in scenario s} \\\\\n",
    "T_is^{-}: \\text{Lack of bikes at bike-station i in scenario s} \\\\\n",
    "$$\n",
    "\n",
    "<b>Formulation:</b>\n",
    "$$\n",
    "\\begin{align*}\n",
    "    \\text{minimize: }   & c \\sum_{i}^B x_i + \\sum_{s=1}^S p_s\\sum_{i=1}^B [v_i\\sum_{j=1}^B I_{ijs}^{-} + w_iO_{is}^{-} + \\sum_{j=1}^B t_{ij}\\tau_{ijs}]\\\\\n",
    "    \\text{subject to: }   \n",
    "        & x_{i} \\le k_i, \\forall i \\in B &\\text{(Bike Station Capacity)}\\\\\n",
    "        & \\beta_{ijs} = \\xi_{ijs} - I_{ijs}^{-} , \\forall i,j \\in B, s \\in S &\\text{(rented bike successfully made from station i to j)}\\\\\n",
    "        & I_{is}^{+} - \\sum_{j=1}^B I_{ijs}^{-} = x_i - \\sum_{j=1}^B \\xi_{ijs} , \\forall i \\in B, s \\in S &\\text{(realized surplus and shortage)}\\\\\n",
    "        & O_{is}^{+} - O_{is}^{-} = k_i - x_i + \\sum_{j=1}^B \\beta_{ijs} - \\sum_{j=1}^B \\beta_{ijs}, \\forall i \\in B, s \\in S &\\text{(residual capacity and overflow after rental)}\\\\\n",
    "        & \\sum_{j=1}^{B} \\rho_{ijs} = O_{is}^{-}, \\forall i \\in B, s \\in S &\\text{(Redirection identifies station overflow)}\\\\\n",
    "        & \\sum_{j=1}^{B} \\rho_{jis} \\le O_{is}^{+}, \\forall i \\in B, s \\in S &\\text{(Sucessful redirection less than residual capacity)}\\\\\n",
    "        & T_{is}^{+} - T_{is}^{-} = k_i - O_{is}^{+} + \\sum_{j=1}^{B}\\rho_{jis} - x_i, \\forall i \\in B, s \\in S &\\text{(Excess and Lack of bikes at stations)}\\\\\n",
    "        & \\sum_{j=1}^{B}\\tau_{ijs} = T_{is}^{+}, \\forall i \\in B, s \\in S &\\text{(Transshipment of excessive bikes)}\\\\\n",
    "        & \\sum_{j=1}^{B}\\tau_{jis} = T_{is}^{-}, \\forall i \\in B, s \\in S &\\text{(Transshipment fulfillment)}\\\\\n",
    "        & x_i, I_{is}^{+}, O_{is}^{+}, O_{is}^{-}, T_{is}^{+}, T_{is}^{-} \\in \\mathbb{Z}^{+}, \\forall i \\in B, s \\in S\\\\\n",
    "        & \\tau_{ijs}, \\beta_{ijs}, \\rho_{ijs}, I_{ijs}^{-} \\in \\mathbb{Z}^{+}, , \\forall i,j \\in B, s \\in S\\\\\n",
    "\\end{align*}\n",
    "$$"
   ]
  },
  {
   "cell_type": "markdown",
   "metadata": {
    "id": "oBSsFcXX9M9b"
   },
   "source": [
    "## Building Model"
   ]
  },
  {
   "cell_type": "code",
   "execution_count": 6,
   "metadata": {
    "id": "ajExGLbioPQh"
   },
   "outputs": [
    {
     "name": "stdout",
     "output_type": "stream",
     "text": [
      "Using license file /Users/ruijian/gurobi.lic\n",
      "Academic license - for non-commercial use only\n"
     ]
    }
   ],
   "source": [
    "m = Model(\"2SP_ExtForm\")"
   ]
  },
  {
   "cell_type": "markdown",
   "metadata": {},
   "source": [
    "### Set variables"
   ]
  },
  {
   "cell_type": "code",
   "execution_count": 7,
   "metadata": {},
   "outputs": [],
   "source": [
    "# first stage variables\n",
    "x = m.addVars(Bset, vtype=GRB.INTEGER, name='x')\n",
    "\n",
    "# second stage variables\n",
    "beta_ijs = m.addVars(Bset,Bset,Sset, vtype=GRB.INTEGER, name='beta_ijs')\n",
    "I_is_surplus = m.addVars(Bset,Sset, vtype=GRB.INTEGER, name='I_ijs_surplus')\n",
    "I_ijs_shortage = m.addVars(Bset,Bset, Sset, vtype=GRB.INTEGER, name='I_ijs_shortage')\n",
    "rho_ijs = m.addVars(Bset,Bset, Sset, vtype=GRB.INTEGER, name='rho_ijs')\n",
    "O_is_resCap = m.addVars(Bset, Sset, vtype=GRB.INTEGER, name='O_is_resCap')\n",
    "O_is_overF = m.addVars(Bset, Sset, vtype=GRB.INTEGER, name='O_is_overF')\n",
    "tau_ijs = m.addVars(Bset,Bset, Sset, vtype=GRB.INTEGER, name='tau_ijs')\n",
    "T_is_excess = m.addVars(Bset, Sset, vtype=GRB.INTEGER, name='T_is_excess')\n",
    "T_is_lack = m.addVars(Bset, Sset, vtype=GRB.INTEGER, name='T_is_lack')\n",
    "\n",
    "m.setObjective(c*quicksum(x[i]for i in Bset) \\\n",
    "               + quicksum(p_s[s]*quicksum(v_i * I_ijs_shortage.sum(i,'*',s)\\\n",
    "                                          + w_i * O_is_overF[(i,s)] \\\n",
    "                                          + t_ij * tau_ijs.sum(i, '*', s) for i in Bset)for s in Sset) )"
   ]
  },
  {
   "cell_type": "markdown",
   "metadata": {},
   "source": [
    "### Set modelsense"
   ]
  },
  {
   "cell_type": "code",
   "execution_count": 8,
   "metadata": {},
   "outputs": [],
   "source": [
    "m.modelSense = GRB.MINIMIZE"
   ]
  },
  {
   "cell_type": "markdown",
   "metadata": {},
   "source": [
    "### Set constraints"
   ]
  },
  {
   "cell_type": "code",
   "execution_count": 9,
   "metadata": {},
   "outputs": [],
   "source": [
    "m.addConstrs(\n",
    "    (x[i] <= capacity_i[i] for i in Bset), name='assignment_capacity');"
   ]
  },
  {
   "cell_type": "code",
   "execution_count": 10,
   "metadata": {},
   "outputs": [],
   "source": [
    "m.addConstrs(\n",
    "    (beta_ijs[i, j, s] == demScens[(i, j), s] - I_ijs_shortage[i, j, s] for i in Bset for j in Bset for s in Sset), name='actual_rental');"
   ]
  },
  {
   "cell_type": "code",
   "execution_count": 11,
   "metadata": {},
   "outputs": [],
   "source": [
    "m.addConstrs(\n",
    "    (I_is_surplus[i,s] - I_ijs_shortage.sum(i, '*', s) == x[i] - sum(demScens[(i,j),s] for j in Bset) for i in Bset for s in Sset), \\\n",
    "        name='realized_surplus_shortage');"
   ]
  },
  {
   "cell_type": "code",
   "execution_count": 12,
   "metadata": {},
   "outputs": [],
   "source": [
    "m.addConstrs((O_is_resCap[i,s] - O_is_overF[i,s] \\\n",
    "              == capacity_i[i] - x[i] + beta_ijs.sum(i, '*', s) - beta_ijs.sum('*', i, s) for i in Bset for s in Sset),\n",
    "            name='residual_overflow_after_rental');"
   ]
  },
  {
   "cell_type": "code",
   "execution_count": 13,
   "metadata": {},
   "outputs": [],
   "source": [
    "m.addConstrs((rho_ijs.sum(i, '*', s) ==  O_is_overF[i, s] for i in Bset for s in Sset),\n",
    "            name='redirecting_overflow');"
   ]
  },
  {
   "cell_type": "code",
   "execution_count": 14,
   "metadata": {},
   "outputs": [],
   "source": [
    "m.addConstrs((rho_ijs.sum('*', i, s) <=  O_is_resCap[i, s] for i in Bset for s in Sset),\n",
    "            name='successful_redictions');"
   ]
  },
  {
   "cell_type": "code",
   "execution_count": 15,
   "metadata": {},
   "outputs": [],
   "source": [
    "m.addConstrs((T_is_excess[i, s] - T_is_lack[i, s] \\\n",
    "              == capacity_i[i] - O_is_resCap[i, s] + rho_ijs.sum('*', i, s) - x[i] for i in Bset for s in Sset),\n",
    "            name='successful_redictions');"
   ]
  },
  {
   "cell_type": "code",
   "execution_count": 16,
   "metadata": {},
   "outputs": [],
   "source": [
    "m.addConstrs((tau_ijs.sum(i, '*', s) ==  T_is_excess[i, s] for i in Bset for s in Sset),\n",
    "            name='transshipment_excessive_bike');"
   ]
  },
  {
   "cell_type": "code",
   "execution_count": 17,
   "metadata": {},
   "outputs": [],
   "source": [
    "m.addConstrs((tau_ijs.sum('*', i, s) ==  T_is_lack[i, s] for i in Bset for s in Sset),\n",
    "            name='transshipment_fulfillment');"
   ]
  },
  {
   "cell_type": "code",
   "execution_count": 18,
   "metadata": {},
   "outputs": [
    {
     "name": "stdout",
     "output_type": "stream",
     "text": [
      "Gurobi Optimizer version 9.0.3 build v9.0.3rc0 (mac64)\n",
      "Optimize a model with 638022 rows, 2046022 columns and 5082022 nonzeros\n",
      "Model fingerprint: 0xaf41c830\n",
      "Variable types: 0 continuous, 2046022 integer (0 binary)\n",
      "Coefficient statistics:\n",
      "  Matrix range     [1e+00, 1e+00]\n",
      "  Objective range  [2e-06, 2e+00]\n",
      "  Bounds range     [0e+00, 0e+00]\n",
      "  RHS range        [1e+00, 2e+01]\n",
      "Presolve removed 550022 rows and 846628 columns (presolve time = 5s) ...\n",
      "Presolve removed 550022 rows and 868628 columns (presolve time = 11s) ...\n",
      "Presolve removed 550022 rows and 868628 columns (presolve time = 16s) ...\n",
      "Presolve removed 550022 rows and 868628 columns\n",
      "Presolve time: 16.95s\n",
      "Presolved: 88000 rows, 1177394 columns, 3136116 nonzeros\n",
      "Variable types: 0 continuous, 1177394 integer (231372 binary)\n",
      "Found heuristic solution: objective 925.6942980\n",
      "\n",
      "Deterministic concurrent LP optimizer: primal simplex, dual simplex, and barrier\n",
      "Showing barrier log only...\n",
      "\n",
      "Root barrier log...\n",
      "\n",
      "Ordering time: 0.13s\n",
      "\n",
      "Barrier statistics:\n",
      " Dense cols : 22\n",
      " AA' NZ     : 1.714e+06\n",
      " Factor NZ  : 2.834e+06 (roughly 500 MBytes of memory)\n",
      " Factor Ops : 1.156e+08 (less than 1 second per iteration)\n",
      " Threads    : 2\n",
      "\n",
      "                  Objective                Residual\n",
      "Iter       Primal          Dual         Primal    Dual     Compl     Time\n",
      "   0   3.01599853e+11 -4.20873945e+12  5.95e+08 3.59e-02  9.48e+07    26s\n",
      "   1   1.04431719e+11 -2.87075984e+12  2.03e+08 2.38e-01  3.28e+07    27s\n",
      "   2   9.42969356e+09 -2.02989475e+12  1.66e+07 1.75e-11  3.43e+06    27s\n",
      "   3   1.43166030e+09 -6.75794289e+11  1.24e+06 1.41e-11  4.40e+05    28s\n",
      "   4   8.19410801e+08 -1.00757304e+11  1.65e+05 1.77e-11  5.51e+04    28s\n",
      "   5   7.18968052e+08 -9.55443999e+09  2.39e+04 3.04e-11  5.49e+03    29s\n",
      "   6   6.00521522e+08 -1.00835254e+09  4.89e+03 1.86e-05  8.67e+02    29s\n",
      "   7   1.10321724e+08 -1.62913076e+08  5.09e+02 5.44e-05  1.33e+02    29s\n",
      "   8   3.83219048e+07 -9.31587713e+07  2.31e+01 4.11e-05  5.57e+01    30s\n",
      "   9   2.16633886e+07 -5.36962906e+07  9.11e+00 2.54e-05  3.18e+01    30s\n",
      "  10   9.58649207e+06 -6.02364123e+06  3.56e+00 4.76e-07  6.70e+00    31s\n",
      "  11   2.20773348e+05 -3.22681939e+05  1.50e-03 3.60e-09  2.27e-01    31s\n",
      "  12   2.12720437e+04 -4.98708634e+04  1.38e-04 5.63e-10  2.97e-02    32s\n",
      "  13   2.51678997e+03 -2.03007566e+04  9.53e-06 2.25e-10  9.51e-03    32s\n",
      "  14   1.74599610e+03 -1.60395130e+04  5.20e-06 1.77e-10  7.41e-03    32s\n",
      "  15   1.23753510e+03 -1.35148833e+04  2.56e-06 1.50e-10  6.15e-03    33s\n",
      "  16   1.16404772e+03 -8.87152388e+03  1.70e-06 9.99e-11  4.18e-03    33s\n",
      "  17   1.01254131e+03 -2.20901844e+03  9.87e-07 2.87e-11  1.34e-03    34s\n",
      "  18   8.20708718e+02 -4.49017099e+02  4.04e-07 1.06e-11  5.29e-04    34s\n",
      "  19   7.06804124e+02  7.57729619e+00  2.01e-07 5.88e-12  2.91e-04    35s\n",
      "  20   6.69082073e+02  1.98526187e+02  1.37e-07 3.93e-12  1.96e-04    36s\n",
      "  21   6.44653436e+02  3.79875340e+02  1.03e-07 2.01e-12  1.10e-04    36s\n",
      "  22   6.31320681e+02  4.06224896e+02  8.43e-08 1.72e-12  9.38e-05    36s\n",
      "  23   6.20375738e+02  4.23121367e+02  7.01e-08 1.54e-12  8.22e-05    37s\n",
      "  24   6.15378949e+02  4.37346401e+02  6.37e-08 1.38e-12  7.42e-05    37s\n",
      "  25   5.97640975e+02  4.56956239e+02  4.01e-08 1.16e-12  5.86e-05    38s\n",
      "  26   5.94174479e+02  4.85384641e+02  3.57e-08 8.59e-13  4.54e-05    39s\n",
      "  27   5.83743024e+02  4.96017821e+02  2.32e-08 7.43e-13  3.66e-05    39s\n",
      "  28   5.78465450e+02  5.16028259e+02  1.65e-08 5.54e-13  2.60e-05    40s\n",
      "  29   5.75252214e+02  5.23579826e+02  1.24e-08 4.45e-13  2.15e-05    41s\n",
      "  30   5.72706795e+02  5.31248941e+02  9.34e-09 3.61e-13  1.73e-05    42s\n",
      "  31   5.70053019e+02  5.37112771e+02  6.30e-09 2.96e-13  1.37e-05    43s\n",
      "  32   5.68414822e+02  5.41407501e+02  4.34e-09 3.55e-13  1.13e-05    44s\n",
      "  33   5.67892033e+02  5.44332219e+02  3.72e-09 2.18e-13  9.82e-06    44s\n",
      "  34   5.66997176e+02  5.46522262e+02  2.73e-09 2.27e-13  8.54e-06    45s\n",
      "  35   5.65851044e+02  5.50600021e+02  1.46e-09 2.03e-13  6.36e-06    46s\n",
      "  36   5.65714472e+02  5.53988250e+02  1.32e-09 2.56e-13  4.89e-06    47s\n",
      "  37   5.65317355e+02  5.55753524e+02  8.96e-10 3.77e-13  3.99e-06    47s\n",
      "  38   5.64936007e+02  5.56171912e+02  5.24e-10 3.84e-13  3.65e-06    48s\n",
      "  39   5.64762814e+02  5.57856678e+02  2.98e-10 3.98e-13  2.88e-06    49s\n",
      "  40   5.64698901e+02  5.59128887e+02  2.39e-10 4.55e-13  2.32e-06    50s\n",
      "  41   5.64543651e+02  5.60995283e+02  9.57e-11 1.99e-13  1.48e-06    50s\n",
      "  42   5.64409531e+02  5.63835467e+02  2.34e-11 1.85e-13  2.39e-07    51s\n",
      "  43   5.64348750e+02  5.64213216e+02  1.19e-10 2.06e-13  5.65e-08    52s\n",
      "  44   5.64334040e+02  5.64328483e+02  3.20e-11 2.13e-13  2.32e-09    52s\n",
      "  45   5.64332518e+02  5.64332509e+02  4.73e-11 2.06e-13  3.74e-12    53s\n",
      "  46   5.64332515e+02  5.64332514e+02  1.57e-08 2.43e-13  2.32e-13    53s\n",
      "\n",
      "Barrier solved model in 46 iterations and 53.25 seconds\n",
      "Optimal objective 5.64332515e+02\n",
      "\n",
      "\n",
      "Root crossover log...\n",
      "\n",
      "   27567 DPushes remaining with DInf 0.0000000e+00                54s\n",
      "    3203 DPushes remaining with DInf 0.0000000e+00                55s\n",
      "       0 DPushes remaining with DInf 0.0000000e+00                56s\n",
      "\n",
      "    1000 Dual superbasic variables remain\n",
      "\n",
      "  107715 PPushes remaining with PInf 0.0000000e+00                56s\n",
      "       0 PPushes remaining with PInf 0.0000000e+00                59s\n",
      "\n",
      "  Push phase complete: Pinf 0.0000000e+00, Dinf 1.3606676e+00     59s\n",
      "\n",
      "\n",
      "Root simplex log...\n",
      "\n",
      "Iteration    Objective       Primal Inf.    Dual Inf.      Time\n",
      "  125076    5.6433251e+02   0.000000e+00   1.360668e+00     59s\n",
      "  125748    5.6433251e+02   0.000000e+00   2.351581e+00     61s\n",
      "  127092    5.6433251e+02   0.000000e+00   1.256539e+00     67s\n",
      "  128436    5.6433251e+02   0.000000e+00   4.165640e-02     72s\n",
      "  129108    5.6433251e+02   0.000000e+00   7.672293e-02     75s\n",
      "  129301    5.6433251e+02   0.000000e+00   0.000000e+00     76s\n",
      "Concurrent spin time: 5.41s\n",
      "\n",
      "Solved with barrier\n",
      "\n",
      "Root relaxation: objective 5.643325e+02, 129301 iterations, 58.93 seconds\n",
      "\n",
      "    Nodes    |    Current Node    |     Objective Bounds      |     Work\n",
      " Expl Unexpl |  Obj  Depth IntInf | Incumbent    BestBd   Gap | It/Node Time\n",
      "\n",
      "*    0     0               0     564.3325145  564.33251  0.00%     -   82s\n",
      "\n",
      "Explored 0 nodes (129301 simplex iterations) in 82.59 seconds\n",
      "Thread count was 8 (of 8 available processors)\n",
      "\n",
      "Solution count 2: 564.333 925.694 \n",
      "\n",
      "Optimal solution found (tolerance 1.00e-04)\n",
      "Best objective 5.643325145000e+02, best bound 5.643325145000e+02, gap 0.0000%\n"
     ]
    }
   ],
   "source": [
    "m.optimize()"
   ]
  },
  {
   "cell_type": "code",
   "execution_count": 19,
   "metadata": {},
   "outputs": [
    {
     "data": {
      "text/plain": [
       "564.3325144999928"
      ]
     },
     "execution_count": 19,
     "metadata": {},
     "output_type": "execute_result"
    }
   ],
   "source": [
    "vs = m.ObjVal\n",
    "vs"
   ]
  },
  {
   "cell_type": "code",
   "execution_count": 20,
   "metadata": {},
   "outputs": [
    {
     "data": {
      "text/plain": [
       "{'A': <gurobi.Var x[A] (value 10.0)>,\n",
       " 'B': <gurobi.Var x[B] (value 10.0)>,\n",
       " 'C': <gurobi.Var x[C] (value 10.0)>,\n",
       " 'D': <gurobi.Var x[D] (value 10.0)>,\n",
       " 'E': <gurobi.Var x[E] (value 10.0)>,\n",
       " 'F': <gurobi.Var x[F] (value 10.0)>,\n",
       " 'G': <gurobi.Var x[G] (value 10.0)>,\n",
       " 'H': <gurobi.Var x[H] (value 8.0)>,\n",
       " 'I': <gurobi.Var x[I] (value 8.0)>,\n",
       " 'J': <gurobi.Var x[J] (value 10.0)>,\n",
       " 'K': <gurobi.Var x[K] (value 9.0)>,\n",
       " 'L': <gurobi.Var x[L] (value 10.0)>,\n",
       " 'M': <gurobi.Var x[M] (value 8.0)>,\n",
       " 'N': <gurobi.Var x[N] (value 10.0)>,\n",
       " 'O': <gurobi.Var x[O] (value 10.0)>,\n",
       " 'P': <gurobi.Var x[P] (value 10.0)>,\n",
       " 'Q': <gurobi.Var x[Q] (value 10.0)>,\n",
       " 'R': <gurobi.Var x[R] (value 10.0)>,\n",
       " 'S': <gurobi.Var x[S] (value 8.0)>,\n",
       " 'T': <gurobi.Var x[T] (value 10.0)>,\n",
       " 'U': <gurobi.Var x[U] (value 10.0)>,\n",
       " 'V': <gurobi.Var x[V] (value 9.0)>}"
      ]
     },
     "execution_count": 20,
     "metadata": {},
     "output_type": "execute_result"
    }
   ],
   "source": [
    "x"
   ]
  },
  {
   "cell_type": "markdown",
   "metadata": {},
   "source": [
    "## VSS"
   ]
  },
  {
   "cell_type": "code",
   "execution_count": 21,
   "metadata": {},
   "outputs": [],
   "source": [
    "# Calculate the mean of the demand\n",
    "demand_mean = {}\n",
    "for pair, val in demScens.items():\n",
    "    station_pair, scenario = pair\n",
    "    if station_pair in demand_mean:\n",
    "        demand_mean[station_pair] += p_s[scenario] * val\n",
    "    else:\n",
    "        demand_mean[station_pair] = p_s[scenario] * val\n",
    "for key, val in demand_mean.items():\n",
    "    demand_mean[key] = int(val)"
   ]
  },
  {
   "cell_type": "code",
   "execution_count": 22,
   "metadata": {},
   "outputs": [],
   "source": [
    "# Calculate the optimal x^* with mean demand\n",
    "M = Model(\"1 Scenairo Model\")\n",
    "M.modelSense = GRB.MINIMIZE"
   ]
  },
  {
   "cell_type": "markdown",
   "metadata": {},
   "source": [
    "### Solve for optimal $x_{MV}^*$"
   ]
  },
  {
   "cell_type": "code",
   "execution_count": 23,
   "metadata": {},
   "outputs": [],
   "source": [
    "# first stage variables\n",
    "x_M = M.addVars(Bset, vtype=GRB.INTEGER, name='x_M')\n",
    "\n",
    "# second stage variables\n",
    "M.Params.outputFlag = 0  # turn off output\n",
    "M.params.logtoconsole=0  # turn off logging of process \n",
    "\n",
    "\n",
    "beta_ij = M.addVars(Bset, Bset, name='beta_ij')\n",
    "I_i_surplus = M.addVars(Bset, name='I_ij_surplus')\n",
    "I_ij_shortage = M.addVars(Bset,Bset, name='I_ij_shortage')\n",
    "rho_ij = M.addVars(Bset,Bset, name='rho_ij')\n",
    "O_i_resCap = M.addVars(Bset, name='O_i_resCap')\n",
    "O_i_overF = M.addVars(Bset, name='O_i_overF')\n",
    "tau_ij = M.addVars(Bset,Bset, name='tau_ij')\n",
    "T_i_excess = M.addVars(Bset, name='T_i_excess')\n",
    "T_i_lack = M.addVars(Bset, name='T_i_lack')\n",
    "\n",
    "M.setObjective(c*quicksum(x_M[i]for i in Bset) + quicksum(v_i * I_ij_shortage.sum(i,'*') + w_i * O_i_overF[i] + t_ij * tau_ij.sum(i, '*') for i in Bset))"
   ]
  },
  {
   "cell_type": "code",
   "execution_count": 24,
   "metadata": {},
   "outputs": [],
   "source": [
    "M.addConstrs(\n",
    "    (x_M[i] <= capacity_i[i] for i in Bset), name='assignment_capacity');"
   ]
  },
  {
   "cell_type": "code",
   "execution_count": 25,
   "metadata": {},
   "outputs": [],
   "source": [
    "actual_rental = {}\n",
    "for ij in Bij_set:\n",
    "    actual_rental[ij] = M.addConstr(beta_ij[ij] + I_ij_shortage[ij] == demand_mean[ij], name=\"actual_rental_\"+str(ij))"
   ]
  },
  {
   "cell_type": "code",
   "execution_count": 26,
   "metadata": {},
   "outputs": [],
   "source": [
    "realized_surplus_shortage = {}\n",
    "for i in Bset:\n",
    "    realized_surplus_shortage[i] = M.addConstr(-I_i_surplus[i] + I_ij_shortage.sum(i, '*') + x_M[i] \\\n",
    "                                               == sum(demand_mean[(i,j)] for j in Bset), \\\n",
    "                                               name=\"realized_surplus_shortage_\"+str(i))                                               "
   ]
  },
  {
   "cell_type": "code",
   "execution_count": 27,
   "metadata": {},
   "outputs": [],
   "source": [
    "M.addConstrs((O_i_resCap[i] - O_i_overF[i] \\\n",
    "              == capacity_i[i] - x_M[i] + beta_ij.sum(i, '*') - beta_ij.sum('*', i) for i in Bset),\n",
    "            name='residual_overflow_after_rental');"
   ]
  },
  {
   "cell_type": "code",
   "execution_count": 28,
   "metadata": {},
   "outputs": [],
   "source": [
    "M.addConstrs((rho_ij.sum(i, '*') ==  O_i_overF[i] for i in Bset),\n",
    "            name='redirecting_overflow');"
   ]
  },
  {
   "cell_type": "code",
   "execution_count": 29,
   "metadata": {},
   "outputs": [],
   "source": [
    "M.addConstrs((rho_ij.sum('*', i) <=  O_i_resCap[i] for i in Bset),\n",
    "            name='successful_redictions');"
   ]
  },
  {
   "cell_type": "code",
   "execution_count": 30,
   "metadata": {},
   "outputs": [],
   "source": [
    "M.addConstrs((T_i_excess[i] - T_i_lack[i] \\\n",
    "              == capacity_i[i] - O_i_resCap[i] + rho_ij.sum('*', i) - x_M[i] for i in Bset),\n",
    "            name='successful_redictions');"
   ]
  },
  {
   "cell_type": "code",
   "execution_count": 31,
   "metadata": {},
   "outputs": [],
   "source": [
    "M.addConstrs((tau_ij.sum(i, '*') ==  T_i_excess[i] for i in Bset),\n",
    "            name='transshipment_excessive_bike');"
   ]
  },
  {
   "cell_type": "code",
   "execution_count": 32,
   "metadata": {},
   "outputs": [],
   "source": [
    "M.addConstrs((tau_ij.sum('*', i) ==  T_i_lack[i] for i in Bset),\n",
    "            name='transshipment_fulfillment');"
   ]
  },
  {
   "cell_type": "code",
   "execution_count": 33,
   "metadata": {},
   "outputs": [],
   "source": [
    "M.optimize()"
   ]
  },
  {
   "cell_type": "code",
   "execution_count": 34,
   "metadata": {},
   "outputs": [
    {
     "data": {
      "text/plain": [
       "<gurobi.Var x_M[A] (value -0.0)>"
      ]
     },
     "execution_count": 34,
     "metadata": {},
     "output_type": "execute_result"
    }
   ],
   "source": [
    "x_M['A']"
   ]
  },
  {
   "cell_type": "code",
   "execution_count": null,
   "metadata": {},
   "outputs": [],
   "source": []
  },
  {
   "cell_type": "markdown",
   "metadata": {},
   "source": [
    "### Solve Extensive Model with $x^*_{MV}$"
   ]
  },
  {
   "cell_type": "code",
   "execution_count": 35,
   "metadata": {},
   "outputs": [
    {
     "name": "stdout",
     "output_type": "stream",
     "text": [
      "Gurobi Optimizer version 9.0.3 build v9.0.3rc0 (mac64)\n",
      "Optimize a model with 638022 rows, 2046022 columns and 5082022 nonzeros\n",
      "Model fingerprint: 0xfa2cb21d\n",
      "Variable types: 0 continuous, 2046022 integer (0 binary)\n",
      "Coefficient statistics:\n",
      "  Matrix range     [1e+00, 1e+00]\n",
      "  Objective range  [2e-06, 2e+00]\n",
      "  Bounds range     [0e+00, 0e+00]\n",
      "  RHS range        [1e+00, 2e+01]\n",
      "\n",
      "MIP start from previous solve did not produce a new incumbent solution\n",
      "\n",
      "Presolve removed 572022 rows and 1100022 columns (presolve time = 5s) ...\n",
      "Presolve removed 637956 rows and 2045076 columns\n",
      "Presolve time: 9.74s\n",
      "Presolved: 66 rows, 946 columns, 2376 nonzeros\n",
      "Variable types: 0 continuous, 946 integer (0 binary)\n",
      "Found heuristic solution: objective 925.6942980\n",
      "\n",
      "Explored 0 nodes (0 simplex iterations) in 12.40 seconds\n",
      "Thread count was 8 (of 8 available processors)\n",
      "\n",
      "Solution count 1: 925.694 \n",
      "\n",
      "Optimal solution found (tolerance 1.00e-04)\n",
      "Best objective 9.256942980000e+02, best bound 9.256942980000e+02, gap 0.0000%\n"
     ]
    }
   ],
   "source": [
    "for key, val in x_M.items():\n",
    "    x[key].lb = val.X\n",
    "    x[key].ub = val.X\n",
    "m.update()\n",
    "m.optimize()"
   ]
  },
  {
   "cell_type": "code",
   "execution_count": 36,
   "metadata": {},
   "outputs": [
    {
     "name": "stdout",
     "output_type": "stream",
     "text": [
      "VSS: 361.36178350004684\n"
     ]
    }
   ],
   "source": [
    "print(\"VSS: {}\".format(m.objVal - vs))"
   ]
  },
  {
   "cell_type": "markdown",
   "metadata": {},
   "source": [
    "## EVPI"
   ]
  },
  {
   "cell_type": "code",
   "execution_count": 37,
   "metadata": {},
   "outputs": [],
   "source": [
    "demand_for_each_scenario = {scenario: {} for scenario in Sset}\n",
    "for pair, val in demScens.items():\n",
    "    station_pair, scenario = pair\n",
    "    demand_for_each_scenario[scenario][station_pair] = val"
   ]
  },
  {
   "cell_type": "code",
   "execution_count": 38,
   "metadata": {},
   "outputs": [],
   "source": [
    "EVPI_val = 0\n",
    "for scenario, demand in demand_for_each_scenario.items():\n",
    "    for ij in Bij_set:\n",
    "        actual_rental[ij].rhs = demand[ij]\n",
    "    for i in Bset:\n",
    "        realized_surplus_shortage[i].rhs = sum(demand[(i,j)] for j in Bset)\n",
    "    M.update()\n",
    "    M.optimize()\n",
    "    EVPI_val += p_s[scenario] * M.objVal"
   ]
  },
  {
   "cell_type": "code",
   "execution_count": 39,
   "metadata": {},
   "outputs": [
    {
     "name": "stdout",
     "output_type": "stream",
     "text": [
      "EVPI: 39.26793849999308\n"
     ]
    }
   ],
   "source": [
    "print(\"EVPI: {}\".format(vs - EVPI_val))"
   ]
  },
  {
   "cell_type": "code",
   "execution_count": null,
   "metadata": {},
   "outputs": [],
   "source": []
  }
 ],
 "metadata": {
  "colab": {
   "name": "Extensive_Form.ipynb",
   "provenance": [],
   "toc_visible": true
  },
  "kernelspec": {
   "display_name": "Python 3",
   "language": "python",
   "name": "python3"
  },
  "language_info": {
   "codemirror_mode": {
    "name": "ipython",
    "version": 3
   },
   "file_extension": ".py",
   "mimetype": "text/x-python",
   "name": "python",
   "nbconvert_exporter": "python",
   "pygments_lexer": "ipython3",
   "version": "3.8.5"
  }
 },
 "nbformat": 4,
 "nbformat_minor": 1
}
