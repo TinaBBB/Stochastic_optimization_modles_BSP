{
 "cells": [
  {
   "cell_type": "markdown",
   "metadata": {
    "id": "dApqT7-5mKJ_"
   },
   "source": [
    "## Load libraries"
   ]
  },
  {
   "cell_type": "code",
   "execution_count": 2,
   "metadata": {
    "colab": {
     "base_uri": "https://localhost:8080/",
     "height": 334
    },
    "id": "w2f4pJSWcYcm",
    "outputId": "b5d11134-7db9-481a-d5b4-c88044ba0306"
   },
   "outputs": [],
   "source": [
    "import numpy as np\n",
    "import pandas as pd\n",
    "import math\n",
    "import pickle\n",
    "import json\n",
    "from gurobipy import *"
   ]
  },
  {
   "cell_type": "markdown",
   "metadata": {
    "id": "Njh2tY-qmRxe"
   },
   "source": [
    "## Functions"
   ]
  },
  {
   "cell_type": "code",
   "execution_count": 3,
   "metadata": {
    "id": "mrSn0n2Sc5Sv"
   },
   "outputs": [],
   "source": [
    "def pickle_load(file_dir):\n",
    "  with open(file_dir, \"rb\") as fp:   # Unpickling\n",
    "    return pickle.load(fp)\n",
    "\n",
    "def json_load(file_dir):\n",
    "    with open(file_dir) as f:\n",
    "        return json.load(f)"
   ]
  },
  {
   "cell_type": "code",
   "execution_count": 71,
   "metadata": {
    "id": "Om5xdDbWlYOa"
   },
   "outputs": [],
   "source": [
    "data_dir = './data/'\n",
    "\n",
    "# scenario number & distribution settings\n",
    "scenario_num = 100\n",
    "distribution_choice = 'log-normal'\n",
    "\n",
    "# Sets directory\n",
    "Bset_dir = data_dir + 'Bset.txt'\n",
    "Bij_set_dir = data_dir + 'Bij_set.txt'\n",
    "Sset_dir = data_dir+'Sset_' + str(scenario_num) + '.txt'\n",
    "\n",
    "deterministic_params_dir = data_dir + 'deterministic_params.json'\n",
    "capacity_i_dir = data_dir + 'capacity_i.json'\n",
    "capacity_i_constant_dir = data_dir + 'capacity_i_constant.json'\n",
    "\n",
    "p_s_dir = data_dir + 'p_s_' + str(scenario_num) + '.json'\n",
    "demScens_dir = data_dir + 'demScens_' + distribution_choice + '_' + str(scenario_num) + '.dict'"
   ]
  },
  {
   "cell_type": "code",
   "execution_count": 104,
   "metadata": {
    "id": "49YI5VrQlLUt"
   },
   "outputs": [],
   "source": [
    "# Sets\n",
    "Bset = pickle_load(Bset_dir)                                  # 22 Bike Stations\n",
    "Bij_set = pickle_load(Bij_set_dir)                                  # Bike pairs                                        \n",
    "Sset = pickle_load(Sset_dir)                                     # Scenario sets\n",
    "deterministic_params = json_load(deterministic_params_dir)       # deterministic parameters\n",
    "\n",
    "c = deterministic_params['c']                            # unit procurement cost\n",
    "v_i = deterministic_params['v_i']                               # stock-out cost\n",
    "w_i = deterministic_params['w_i']                              # time-waste cost \n",
    "t_ij = deterministic_params['t_ij']                    # unit transshipment cost \n",
    "capacity_i = json_load(capacity_i_dir)\n",
    "p_s = json_load(p_s_dir)\n",
    "demScens = pickle_load(demScens_dir)"
   ]
  },
  {
   "cell_type": "markdown",
   "metadata": {
    "id": "TlVCuvIs93aD"
   },
   "source": [
    "The formulation of the two-stage stochastic program problem i written as follows:\n",
    "\n",
    "<b>First stage varibles:</b> <br>\n",
    "$$x_i: \\text{the number of bikes to assign to bike-station i} \\in \\text{B at the beginning of the service}$$\n",
    "<b>Second stage variables: </b>\n",
    "$$\n",
    "\\beta_{ijs}: \\text{Number of rented bikes from bike-station i to bike-station j in scenario s}\\\\\n",
    "I_{is}^{+}: \\text{Realized surplus of bikes at bike-station i in scenario s} \\\\\n",
    "I_{ijs}^{-}: \\text{Realized shortage of bikes at origin-destination pair i, j in scenario s}\\\\\n",
    "\\rho_{ijs}: \\text{Number of redirected bikes from bike-station i to bike-station j in scenario s (in case of overflow)}\\\\\n",
    "O_{is}^{+}: \\text{Residual capacity at bike-station i in scenario s} \\\\\n",
    "O_{is}^{-}: \\text{Overflow at bike-station i in scenario s} \\\\\n",
    "\\tau_{ijs}: \\text{Number of transshipped bikes from bike-station i to bike-station j in scenario s} \\\\\n",
    "T_{is}^{+}: \\text{Excess of bikes at bike-station i in scenario s} \\\\\n",
    "T_is^{-}: \\text{Lack of bikes at bike-station i in scenario s} \\\\\n",
    "$$\n",
    "\n",
    "<b>Formulation:</b>\n",
    "$$\n",
    "\\begin{align*}\n",
    "    \\text{minimize: }   & c \\sum_{i}^B x_i + \\sum_{s=1}^S p_s\\sum_{i=1}^B [v_i\\sum_{j=1}^B I_{ijs}^{-} + w_iO_{is}^{-} + \\sum_{j=1}^B t_{ij}\\tau_{ijs}]\\\\\n",
    "    \\text{subject to: }   \n",
    "        & x_{i} \\le k_i, \\forall i \\in B &\\text{(Bike Station Capacity)}\\\\\n",
    "        & \\beta_{ijs} = \\xi_{ijs} - I_{ijs}^{-} , \\forall i,j \\in B, s \\in S &\\text{(rented bike successfully made from station i to j)}\\\\\n",
    "        & I_{is}^{+} - \\sum_{j=1}^B I_{ijs}^{-} = x_i - \\sum_{j=1}^B \\xi_{ijs} , \\forall i \\in B, s \\in S &\\text{(realized surplus and shortage)}\\\\\n",
    "        & O_{is}^{+} - O_{is}^{-} = k_i - x_i + \\sum_{j=1}^B \\beta_{ijs} - \\sum_{j=1}^B \\beta_{ijs}, \\forall i \\in B, s \\in S &\\text{(residual capacity and overflow after rental)}\\\\\n",
    "        & \\sum_{j=1}^{B} \\rho_{ijs} = O_{is}^{-}, \\forall i \\in B, s \\in S &\\text{(Redirection identifies station overflow)}\\\\\n",
    "        & \\sum_{j=1}^{B} \\rho_{jis} \\le O_{is}^{+}, \\forall i \\in B, s \\in S &\\text{(Sucessful redirection less than residual capacity)}\\\\\n",
    "        & T_{is}^{+} - T_{is}^{-} = k_i - O_{is}^{+} + \\sum_{j=1}^{B}\\rho_{jis} - x_i, \\forall i \\in B, s \\in S &\\text{(Excess and Lack of bikes at stations)}\\\\\n",
    "        & \\sum_{j=1}^{B}\\tau_{ijs} = T_{is}^{+}, \\forall i \\in B, s \\in S &\\text{(Transshipment of excessive bikes)}\\\\\n",
    "        & \\sum_{j=1}^{B}\\tau_{jis} = T_{is}^{-}, \\forall i \\in B, s \\in S &\\text{(Transshipment fulfillment)}\\\\\n",
    "        & x_i, I_{is}^{+}, O_{is}^{+}, O_{is}^{-}, T_{is}^{+}, T_{is}^{-} \\in \\mathbb{Z}^{+}, \\forall i \\in B, s \\in S\\\\\n",
    "        & \\tau_{ijs}, \\beta_{ijs}, \\rho_{ijs}, I_{ijs}^{-} \\in \\mathbb{Z}^{+}, , \\forall i,j \\in B, s \\in S\\\\\n",
    "\\end{align*}\n",
    "$$"
   ]
  },
  {
   "cell_type": "markdown",
   "metadata": {
    "id": "oBSsFcXX9M9b"
   },
   "source": [
    "## Building Model"
   ]
  },
  {
   "cell_type": "code",
   "execution_count": 105,
   "metadata": {
    "id": "ajExGLbioPQh"
   },
   "outputs": [],
   "source": [
    "m = Model(\"2SP_ExtForm\")"
   ]
  },
  {
   "cell_type": "markdown",
   "metadata": {},
   "source": [
    "### Set variables"
   ]
  },
  {
   "cell_type": "code",
   "execution_count": 106,
   "metadata": {},
   "outputs": [],
   "source": [
    "# first stage variables\n",
    "x = m.addVars(Bset, vtype=GRB.INTEGER, name='x')\n",
    "\n",
    "# second stage variables\n",
    "beta_ijs = m.addVars(Bset,Bset,Sset, vtype=GRB.INTEGER, name='beta_ijs')\n",
    "I_is_surplus = m.addVars(Bset,Sset, vtype=GRB.INTEGER, name='I_ijs_surplus')\n",
    "I_ijs_shortage = m.addVars(Bset,Bset, Sset, vtype=GRB.INTEGER, name='I_ijs_shortage')\n",
    "rho_ijs = m.addVars(Bset,Bset, Sset, vtype=GRB.INTEGER, name='rho_ijs')\n",
    "O_is_resCap = m.addVars(Bset, Sset, vtype=GRB.INTEGER, name='O_is_resCap')\n",
    "O_is_overF = m.addVars(Bset, Sset, vtype=GRB.INTEGER, name='O_is_overF')\n",
    "tau_ijs = m.addVars(Bset,Bset, Sset, vtype=GRB.INTEGER, name='tau_ijs')\n",
    "T_is_excess = m.addVars(Bset, Sset, vtype=GRB.INTEGER, name='T_is_excess')\n",
    "T_is_lack = m.addVars(Bset, Sset, vtype=GRB.INTEGER, name='T_is_lack')\n",
    "\n",
    "m.setObjective(c*quicksum(x[i]for i in Bset) \\\n",
    "               + quicksum(p_s[s]*quicksum(v_i * I_ijs_shortage.sum(i,'*',s)\\\n",
    "                                          + w_i * O_is_overF[(i,s)] \\\n",
    "                                          + t_ij * tau_ijs.sum(i, '*', s) for i in Bset)for s in Sset) )"
   ]
  },
  {
   "cell_type": "markdown",
   "metadata": {},
   "source": [
    "### Set modelsense"
   ]
  },
  {
   "cell_type": "code",
   "execution_count": 107,
   "metadata": {},
   "outputs": [],
   "source": [
    "m.modelSense = GRB.MINIMIZE"
   ]
  },
  {
   "cell_type": "markdown",
   "metadata": {},
   "source": [
    "### Set constraints"
   ]
  },
  {
   "cell_type": "code",
   "execution_count": 108,
   "metadata": {},
   "outputs": [],
   "source": [
    "m.addConstrs(\n",
    "    (x[i] <= capacity_i[i] for i in Bset), name='assignment_capacity');"
   ]
  },
  {
   "cell_type": "code",
   "execution_count": 109,
   "metadata": {},
   "outputs": [],
   "source": [
    "m.addConstrs(\n",
    "    (beta_ijs[i, j, s] == demScens[i, j, s] - I_ijs_shortage[i, j, s] for i in Bset for j in Bset for s in Sset), \\\n",
    "        name='actual_rental');"
   ]
  },
  {
   "cell_type": "code",
   "execution_count": 110,
   "metadata": {},
   "outputs": [],
   "source": [
    "m.addConstrs(\n",
    "    (I_is_surplus[i,s] - I_ijs_shortage.sum(i, '*', s) == x[i] - sum(demScens[i,j,s] for j in Bset) for i in Bset for s in Sset), \\\n",
    "        name='realized_surplus_shortage');"
   ]
  },
  {
   "cell_type": "code",
   "execution_count": 111,
   "metadata": {},
   "outputs": [],
   "source": [
    "m.addConstrs((O_is_resCap[i,s] - O_is_overF[i,s] \\\n",
    "              == capacity_i[i] - x[i] + beta_ijs.sum(i, '*', s) - beta_ijs.sum('*', i, s) for i in Bset for s in Sset),\n",
    "            name='residual_overflow_after_rental');"
   ]
  },
  {
   "cell_type": "code",
   "execution_count": 112,
   "metadata": {},
   "outputs": [],
   "source": [
    "m.addConstrs((rho_ijs.sum(i, '*', s) ==  O_is_overF[i, s] for i in Bset for s in Sset),\n",
    "            name='redirecting_overflow');"
   ]
  },
  {
   "cell_type": "code",
   "execution_count": 113,
   "metadata": {},
   "outputs": [],
   "source": [
    "m.addConstrs((rho_ijs.sum('*', i, s) <=  O_is_resCap[i, s] for i in Bset for s in Sset),\n",
    "            name='successful_redictions');"
   ]
  },
  {
   "cell_type": "code",
   "execution_count": 114,
   "metadata": {},
   "outputs": [],
   "source": [
    "m.addConstrs((T_is_excess[i, s] - T_is_lack[i, s] \\\n",
    "              == capacity_i[i] - O_is_resCap[i, s] + rho_ijs.sum('*', i, s) - x[i] for i in Bset for s in Sset),\n",
    "            name='successful_redictions');"
   ]
  },
  {
   "cell_type": "code",
   "execution_count": 115,
   "metadata": {},
   "outputs": [],
   "source": [
    "m.addConstrs((tau_ijs.sum(i, '*', s) ==  T_is_excess[i, s] for i in Bset for s in Sset),\n",
    "            name='transshipment_excessive_bike');"
   ]
  },
  {
   "cell_type": "code",
   "execution_count": 116,
   "metadata": {},
   "outputs": [],
   "source": [
    "m.addConstrs((tau_ijs.sum('*', i, s) ==  T_is_lack[i, s] for i in Bset for s in Sset),\n",
    "            name='transshipment_fulfillment');"
   ]
  },
  {
   "cell_type": "code",
   "execution_count": 117,
   "metadata": {},
   "outputs": [
    {
     "name": "stdout",
     "output_type": "stream",
     "text": [
      "Gurobi Optimizer version 9.0.3 build v9.0.3rc0 (mac64)\n",
      "Optimize a model with 63822 rows, 204622 columns and 508222 nonzeros\n",
      "Model fingerprint: 0x172a64b6\n",
      "Variable types: 0 continuous, 204622 integer (0 binary)\n",
      "Coefficient statistics:\n",
      "  Matrix range     [1e+00, 1e+00]\n",
      "  Objective range  [8e-04, 2e+00]\n",
      "  Bounds range     [0e+00, 0e+00]\n",
      "  RHS range        [1e+00, 5e+01]\n",
      "Presolve removed 55022 rows and 86819 columns\n",
      "Presolve time: 1.00s\n",
      "Presolved: 8800 rows, 117803 columns, 313743 nonzeros\n",
      "Variable types: 0 continuous, 117803 integer (18758 binary)\n",
      "\n",
      "Root relaxation: objective 8.490437e+02, 16410 iterations, 1.16 seconds\n",
      "\n",
      "    Nodes    |    Current Node    |     Objective Bounds      |     Work\n",
      " Expl Unexpl |  Obj  Depth IntInf | Incumbent    BestBd   Gap | It/Node Time\n",
      "\n",
      "*    0     0               0     849.0437498  849.04375  0.00%     -    2s\n",
      "\n",
      "Explored 0 nodes (16410 simplex iterations) in 2.62 seconds\n",
      "Thread count was 4 (of 4 available processors)\n",
      "\n",
      "Solution count 1: 849.044 \n",
      "\n",
      "Optimal solution found (tolerance 1.00e-04)\n",
      "Best objective 8.490437498000e+02, best bound 8.490437498000e+02, gap 0.0000%\n"
     ]
    }
   ],
   "source": [
    "m.optimize()"
   ]
  },
  {
   "cell_type": "code",
   "execution_count": 120,
   "metadata": {},
   "outputs": [
    {
     "data": {
      "text/plain": [
       "{'A': <gurobi.Var x[A] (value 11.0)>,\n",
       " 'B': <gurobi.Var x[B] (value 10.0)>,\n",
       " 'C': <gurobi.Var x[C] (value 10.0)>,\n",
       " 'D': <gurobi.Var x[D] (value 11.0)>,\n",
       " 'E': <gurobi.Var x[E] (value 13.0)>,\n",
       " 'F': <gurobi.Var x[F] (value 12.0)>,\n",
       " 'G': <gurobi.Var x[G] (value 12.0)>,\n",
       " 'H': <gurobi.Var x[H] (value 8.0)>,\n",
       " 'I': <gurobi.Var x[I] (value 8.0)>,\n",
       " 'J': <gurobi.Var x[J] (value 13.0)>,\n",
       " 'K': <gurobi.Var x[K] (value 10.0)>,\n",
       " 'L': <gurobi.Var x[L] (value 13.0)>,\n",
       " 'M': <gurobi.Var x[M] (value 8.0)>,\n",
       " 'N': <gurobi.Var x[N] (value 10.0)>,\n",
       " 'O': <gurobi.Var x[O] (value 10.0)>,\n",
       " 'P': <gurobi.Var x[P] (value 10.0)>,\n",
       " 'Q': <gurobi.Var x[Q] (value 13.0)>,\n",
       " 'R': <gurobi.Var x[R] (value 10.0)>,\n",
       " 'S': <gurobi.Var x[S] (value 8.0)>,\n",
       " 'T': <gurobi.Var x[T] (value 12.0)>,\n",
       " 'U': <gurobi.Var x[U] (value 12.0)>,\n",
       " 'V': <gurobi.Var x[V] (value 10.0)>}"
      ]
     },
     "execution_count": 120,
     "metadata": {},
     "output_type": "execute_result"
    }
   ],
   "source": [
    "x"
   ]
  },
  {
   "cell_type": "code",
   "execution_count": null,
   "metadata": {},
   "outputs": [],
   "source": []
  }
 ],
 "metadata": {
  "colab": {
   "name": "Extensive_Form.ipynb",
   "provenance": [],
   "toc_visible": true
  },
  "kernelspec": {
   "display_name": "Python 3",
   "language": "python",
   "name": "python3"
  },
  "language_info": {
   "codemirror_mode": {
    "name": "ipython",
    "version": 3
   },
   "file_extension": ".py",
   "mimetype": "text/x-python",
   "name": "python",
   "nbconvert_exporter": "python",
   "pygments_lexer": "ipython3",
   "version": "3.8.5"
  }
 },
 "nbformat": 4,
 "nbformat_minor": 1
}
